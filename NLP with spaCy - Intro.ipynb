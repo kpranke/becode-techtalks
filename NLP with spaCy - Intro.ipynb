{
 "cells": [
  {
   "cell_type": "markdown",
   "id": "b26a6557",
   "metadata": {},
   "source": [
    "# NLP with spaCy (https://spacy.io/) - Introduction\n",
    "1. Language model #installation https://spacy.io/usage https://spacy.io/usage/models\n",
    "2. Processing pipeline\n",
    "3. Linguistic features\n",
    "4. Word vectors"
   ]
  },
  {
   "cell_type": "code",
   "execution_count": 2,
   "id": "dd1ac389",
   "metadata": {},
   "outputs": [],
   "source": [
    "import spacy"
   ]
  },
  {
   "cell_type": "markdown",
   "id": "4e89c5e3",
   "metadata": {},
   "source": [
    "## Create the nlp object - load a language model"
   ]
  },
  {
   "cell_type": "code",
   "execution_count": 3,
   "id": "df5194cf",
   "metadata": {},
   "outputs": [],
   "source": [
    "nlp = spacy.load(\"en_core_web_sm\")"
   ]
  },
  {
   "cell_type": "markdown",
   "id": "a437a19a",
   "metadata": {},
   "source": [
    "## Processing pipelines\n",
    "https://spacy.io/usage/processing-pipelines"
   ]
  },
  {
   "cell_type": "code",
   "execution_count": 36,
   "id": "b7c55d74",
   "metadata": {},
   "outputs": [
    {
     "name": "stdout",
     "output_type": "stream",
     "text": [
      "['tok2vec', 'tagger', 'parser', 'attribute_ruler', 'lemmatizer', 'ner']\n"
     ]
    }
   ],
   "source": [
    "print(nlp.pipe_names)"
   ]
  },
  {
   "cell_type": "markdown",
   "id": "8f59f741",
   "metadata": {},
   "source": [
    "## Create a variable (string type)"
   ]
  },
  {
   "cell_type": "code",
   "execution_count": 37,
   "id": "43480060",
   "metadata": {},
   "outputs": [],
   "source": [
    "text = 'Guido van Rossum (born 31 January 1956) is a Dutch programmer best known as the creator of the Python programming language, for which he was the \"benevolent dictator for life\" (BDFL) until he stepped down from the position in July 2018. He remained a member of the Python Steering Council through 2019, and withdrew from nominations for the 2020 election.'"
   ]
  },
  {
   "cell_type": "markdown",
   "id": "fb50139f",
   "metadata": {},
   "source": [
    "## Print the variable text"
   ]
  },
  {
   "cell_type": "code",
   "execution_count": 38,
   "id": "c8525d08",
   "metadata": {},
   "outputs": [
    {
     "name": "stdout",
     "output_type": "stream",
     "text": [
      "Guido van Rossum (born 31 January 1956) is a Dutch programmer best known as the creator of the Python programming language, for which he was the \"benevolent dictator for life\" (BDFL) until he stepped down from the position in July 2018. He remained a member of the Python Steering Council through 2019, and withdrew from nominations for the 2020 election.\n"
     ]
    }
   ],
   "source": [
    "print(text)"
   ]
  },
  {
   "cell_type": "markdown",
   "id": "92f57df0",
   "metadata": {},
   "source": [
    "## Create the doc object and print it"
   ]
  },
  {
   "cell_type": "code",
   "execution_count": 39,
   "id": "35b5c5ab",
   "metadata": {},
   "outputs": [
    {
     "name": "stdout",
     "output_type": "stream",
     "text": [
      "Guido van Rossum (born 31 January 1956) is a Dutch programmer best known as the creator of the Python programming language, for which he was the \"benevolent dictator for life\" (BDFL) until he stepped down from the position in July 2018. He remained a member of the Python Steering Council through 2019, and withdrew from nominations for the 2020 election.\n"
     ]
    }
   ],
   "source": [
    "doc = nlp(text)\n",
    "print(doc)"
   ]
  },
  {
   "cell_type": "markdown",
   "id": "398d3f47",
   "metadata": {},
   "source": [
    "## Check the length of both text and doc"
   ]
  },
  {
   "cell_type": "code",
   "execution_count": 40,
   "id": "95b0d6aa",
   "metadata": {},
   "outputs": [
    {
     "name": "stdout",
     "output_type": "stream",
     "text": [
      "355\n",
      "70\n"
     ]
    }
   ],
   "source": [
    "print(len(text))\n",
    "print(len(doc))"
   ]
  },
  {
   "cell_type": "markdown",
   "id": "be1ac6b0",
   "metadata": {},
   "source": [
    "## Print tokens in text:"
   ]
  },
  {
   "cell_type": "code",
   "execution_count": 41,
   "id": "74a54a03",
   "metadata": {},
   "outputs": [
    {
     "name": "stdout",
     "output_type": "stream",
     "text": [
      "G\n",
      "u\n",
      "i\n",
      "d\n",
      "o\n",
      " \n",
      "v\n",
      "a\n",
      "n\n",
      " \n"
     ]
    }
   ],
   "source": [
    "for token in text[0:10]:\n",
    "    print(token)"
   ]
  },
  {
   "cell_type": "markdown",
   "id": "8dbc6fd4",
   "metadata": {},
   "source": [
    "## Print tokens in doc:"
   ]
  },
  {
   "cell_type": "code",
   "execution_count": 42,
   "id": "98e8684d",
   "metadata": {},
   "outputs": [
    {
     "name": "stdout",
     "output_type": "stream",
     "text": [
      "Guido\n",
      "van\n",
      "Rossum\n",
      "(\n",
      "born\n",
      "31\n",
      "January\n",
      "1956\n",
      ")\n",
      "is\n"
     ]
    }
   ],
   "source": [
    "for token in doc[0:10]:\n",
    "    print(token)"
   ]
  },
  {
   "cell_type": "markdown",
   "id": "41a8cd5e",
   "metadata": {},
   "source": [
    "## Index into the Doc to get a single token:"
   ]
  },
  {
   "cell_type": "code",
   "execution_count": 43,
   "id": "9e787e47",
   "metadata": {},
   "outputs": [
    {
     "name": "stdout",
     "output_type": "stream",
     "text": [
      "Rossum\n"
     ]
    }
   ],
   "source": [
    "token = doc[2]\n",
    "print(token.text) # accessing token as str"
   ]
  },
  {
   "cell_type": "markdown",
   "id": "9bad3157",
   "metadata": {},
   "source": [
    "## Print tokens in text.split()"
   ]
  },
  {
   "cell_type": "code",
   "execution_count": 44,
   "id": "0b0888bd",
   "metadata": {},
   "outputs": [
    {
     "name": "stdout",
     "output_type": "stream",
     "text": [
      "Guido\n",
      "van\n",
      "Rossum\n",
      "(born\n",
      "31\n",
      "January\n",
      "1956)\n",
      "is\n",
      "a\n",
      "Dutch\n"
     ]
    }
   ],
   "source": [
    "for token in text.split()[:10]:\n",
    "    print(token) # almost the same, but parethesis cause a problem"
   ]
  },
  {
   "cell_type": "markdown",
   "id": "5ec1a0aa",
   "metadata": {},
   "source": [
    "## Print sentences in doc object:"
   ]
  },
  {
   "cell_type": "code",
   "execution_count": 45,
   "id": "80b49433",
   "metadata": {},
   "outputs": [
    {
     "name": "stdout",
     "output_type": "stream",
     "text": [
      "Separate sentence:\n",
      "Guido van Rossum (born 31 January 1956) is a Dutch programmer best known as the creator of the Python programming language, for which he was the \"benevolent dictator for life\" (BDFL) until he stepped down from the position in July 2018.\n",
      "Separate sentence:\n",
      "He remained a member of the Python Steering Council through 2019, and withdrew from nominations for the 2020 election.\n"
     ]
    }
   ],
   "source": [
    "for sent in doc.sents:\n",
    "    print('Separate sentence:')\n",
    "    print(sent)"
   ]
  },
  {
   "cell_type": "markdown",
   "id": "b8fd87b1",
   "metadata": {},
   "source": [
    "## Create a variable which contains the 1st sentence from doc object"
   ]
  },
  {
   "cell_type": "code",
   "execution_count": 46,
   "id": "fd13f076",
   "metadata": {},
   "outputs": [
    {
     "ename": "TypeError",
     "evalue": "'generator' object is not subscriptable",
     "output_type": "error",
     "traceback": [
      "\u001b[1;31m---------------------------------------------------------------------------\u001b[0m",
      "\u001b[1;31mTypeError\u001b[0m                                 Traceback (most recent call last)",
      "\u001b[1;32m~\\AppData\\Local\\Temp/ipykernel_31684/1701198137.py\u001b[0m in \u001b[0;36m<module>\u001b[1;34m\u001b[0m\n\u001b[1;32m----> 1\u001b[1;33m \u001b[0msentence1\u001b[0m \u001b[1;33m=\u001b[0m \u001b[0mdoc\u001b[0m\u001b[1;33m.\u001b[0m\u001b[0msents\u001b[0m\u001b[1;33m[\u001b[0m\u001b[1;36m0\u001b[0m\u001b[1;33m]\u001b[0m\u001b[1;33m\u001b[0m\u001b[1;33m\u001b[0m\u001b[0m\n\u001b[0m",
      "\u001b[1;31mTypeError\u001b[0m: 'generator' object is not subscriptable"
     ]
    }
   ],
   "source": [
    "sentence1 = doc.sents[0]"
   ]
  },
  {
   "cell_type": "markdown",
   "id": "58bab04d",
   "metadata": {},
   "source": [
    "## Convert to a list"
   ]
  },
  {
   "cell_type": "code",
   "execution_count": 47,
   "id": "cdef890c",
   "metadata": {},
   "outputs": [
    {
     "name": "stdout",
     "output_type": "stream",
     "text": [
      "Guido van Rossum (born 31 January 1956) is a Dutch programmer best known as the creator of the Python programming language, for which he was the \"benevolent dictator for life\" (BDFL) until he stepped down from the position in July 2018.\n"
     ]
    }
   ],
   "source": [
    "sentence1 = list(doc.sents)[0]\n",
    "print(sentence1)"
   ]
  },
  {
   "cell_type": "code",
   "execution_count": 48,
   "id": "ba26e2b0",
   "metadata": {},
   "outputs": [
    {
     "name": "stdout",
     "output_type": "stream",
     "text": [
      "He remained a member of the Python Steering Council through 2019, and withdrew from nominations for the 2020 election.\n"
     ]
    }
   ],
   "source": [
    "sentence2 = list(doc.sents)[1]\n",
    "print(sentence2)"
   ]
  },
  {
   "cell_type": "markdown",
   "id": "a7a67821",
   "metadata": {},
   "source": [
    "## Tokens contain more metadata (linguistic features)"
   ]
  },
  {
   "cell_type": "code",
   "execution_count": 49,
   "id": "b8a9df0d",
   "metadata": {},
   "outputs": [
    {
     "name": "stdout",
     "output_type": "stream",
     "text": [
      "Rossum\n"
     ]
    }
   ],
   "source": [
    "token2 = sentence1[2]\n",
    "print(token2)"
   ]
  },
  {
   "cell_type": "code",
   "execution_count": 50,
   "id": "813662c1",
   "metadata": {},
   "outputs": [
    {
     "data": {
      "text/plain": [
       "'Rossum'"
      ]
     },
     "execution_count": 50,
     "metadata": {},
     "output_type": "execute_result"
    }
   ],
   "source": [
    "token2.text"
   ]
  },
  {
   "cell_type": "code",
   "execution_count": 51,
   "id": "f554abd1",
   "metadata": {},
   "outputs": [
    {
     "data": {
      "text/plain": [
       "'PROPN'"
      ]
     },
     "execution_count": 51,
     "metadata": {},
     "output_type": "execute_result"
    }
   ],
   "source": [
    "token2.pos_"
   ]
  },
  {
   "cell_type": "code",
   "execution_count": 52,
   "id": "8548b407",
   "metadata": {},
   "outputs": [
    {
     "data": {
      "text/plain": [
       "Guido"
      ]
     },
     "execution_count": 52,
     "metadata": {},
     "output_type": "execute_result"
    }
   ],
   "source": [
    "token2.left_edge"
   ]
  },
  {
   "cell_type": "code",
   "execution_count": 53,
   "id": "fae4d893",
   "metadata": {},
   "outputs": [
    {
     "data": {
      "text/plain": [
       ")"
      ]
     },
     "execution_count": 53,
     "metadata": {},
     "output_type": "execute_result"
    }
   ],
   "source": [
    "token2.right_edge"
   ]
  },
  {
   "cell_type": "code",
   "execution_count": 54,
   "id": "37f25685",
   "metadata": {},
   "outputs": [
    {
     "name": "stdout",
     "output_type": "stream",
     "text": [
      "Guido van Rossum (born 31 January 1956) is a Dutch programmer best known as the creator of the Python programming language, for which he was the \"benevolent dictator for life\" (BDFL) until he stepped down from the position in July 2018.\n",
      "is\n",
      "be\n"
     ]
    }
   ],
   "source": [
    "# Show lemma \n",
    "print(sentence1)\n",
    "print(sentence1[9])\n",
    "print(sentence1[9].lemma_)"
   ]
  },
  {
   "cell_type": "code",
   "execution_count": 55,
   "id": "13bdaaa7",
   "metadata": {},
   "outputs": [
    {
     "name": "stdout",
     "output_type": "stream",
     "text": [
      "best\n",
      "well\n"
     ]
    }
   ],
   "source": [
    "print(sentence1[13])\n",
    "print(sentence1[13].lemma_)"
   ]
  },
  {
   "cell_type": "code",
   "execution_count": 56,
   "id": "bfa61990",
   "metadata": {},
   "outputs": [
    {
     "data": {
      "text/plain": [
       "Number=Sing"
      ]
     },
     "execution_count": 56,
     "metadata": {},
     "output_type": "execute_result"
    }
   ],
   "source": [
    "token2.morph"
   ]
  },
  {
   "cell_type": "markdown",
   "id": "bbfbc993",
   "metadata": {},
   "source": [
    "## Part of Speech (POS) tagging "
   ]
  },
  {
   "cell_type": "code",
   "execution_count": 57,
   "id": "54aa4c5a",
   "metadata": {},
   "outputs": [
    {
     "name": "stdout",
     "output_type": "stream",
     "text": [
      "Guido PROPN compound\n",
      "van PROPN compound\n",
      "Rossum PROPN nsubj\n",
      "( PUNCT punct\n",
      "born VERB acl\n",
      "31 NUM nummod\n",
      "January PROPN npadvmod\n",
      "1956 NUM nummod\n",
      ") PUNCT punct\n",
      "is AUX ROOT\n"
     ]
    }
   ],
   "source": [
    "# Part of Speech Tagging, Dependency Parser\n",
    "for token in doc[:10]:\n",
    "    print(token.text, token.pos_, token.dep_)"
   ]
  },
  {
   "cell_type": "code",
   "execution_count": 58,
   "id": "ee08400b",
   "metadata": {},
   "outputs": [],
   "source": [
    "from spacy import displacy"
   ]
  },
  {
   "cell_type": "code",
   "execution_count": 59,
   "id": "e8931983",
   "metadata": {},
   "outputs": [
    {
     "data": {
      "text/html": [
       "<span class=\"tex2jax_ignore\"><svg xmlns=\"http://www.w3.org/2000/svg\" xmlns:xlink=\"http://www.w3.org/1999/xlink\" xml:lang=\"en\" id=\"fb4e6abac95f47e0babc659621956c18-0\" class=\"displacy\" width=\"10550\" height=\"924.5\" direction=\"ltr\" style=\"max-width: none; height: 924.5px; color: #000000; background: #ffffff; font-family: Arial; direction: ltr\">\n",
       "<text class=\"displacy-token\" fill=\"currentColor\" text-anchor=\"middle\" y=\"834.5\">\n",
       "    <tspan class=\"displacy-word\" fill=\"currentColor\" x=\"50\">Guido</tspan>\n",
       "    <tspan class=\"displacy-tag\" dy=\"2em\" fill=\"currentColor\" x=\"50\">PROPN</tspan>\n",
       "</text>\n",
       "\n",
       "<text class=\"displacy-token\" fill=\"currentColor\" text-anchor=\"middle\" y=\"834.5\">\n",
       "    <tspan class=\"displacy-word\" fill=\"currentColor\" x=\"225\">van</tspan>\n",
       "    <tspan class=\"displacy-tag\" dy=\"2em\" fill=\"currentColor\" x=\"225\">PROPN</tspan>\n",
       "</text>\n",
       "\n",
       "<text class=\"displacy-token\" fill=\"currentColor\" text-anchor=\"middle\" y=\"834.5\">\n",
       "    <tspan class=\"displacy-word\" fill=\"currentColor\" x=\"400\">Rossum (</tspan>\n",
       "    <tspan class=\"displacy-tag\" dy=\"2em\" fill=\"currentColor\" x=\"400\">PROPN</tspan>\n",
       "</text>\n",
       "\n",
       "<text class=\"displacy-token\" fill=\"currentColor\" text-anchor=\"middle\" y=\"834.5\">\n",
       "    <tspan class=\"displacy-word\" fill=\"currentColor\" x=\"575\">born</tspan>\n",
       "    <tspan class=\"displacy-tag\" dy=\"2em\" fill=\"currentColor\" x=\"575\">VERB</tspan>\n",
       "</text>\n",
       "\n",
       "<text class=\"displacy-token\" fill=\"currentColor\" text-anchor=\"middle\" y=\"834.5\">\n",
       "    <tspan class=\"displacy-word\" fill=\"currentColor\" x=\"750\">31</tspan>\n",
       "    <tspan class=\"displacy-tag\" dy=\"2em\" fill=\"currentColor\" x=\"750\">NUM</tspan>\n",
       "</text>\n",
       "\n",
       "<text class=\"displacy-token\" fill=\"currentColor\" text-anchor=\"middle\" y=\"834.5\">\n",
       "    <tspan class=\"displacy-word\" fill=\"currentColor\" x=\"925\">January</tspan>\n",
       "    <tspan class=\"displacy-tag\" dy=\"2em\" fill=\"currentColor\" x=\"925\">PROPN</tspan>\n",
       "</text>\n",
       "\n",
       "<text class=\"displacy-token\" fill=\"currentColor\" text-anchor=\"middle\" y=\"834.5\">\n",
       "    <tspan class=\"displacy-word\" fill=\"currentColor\" x=\"1100\">1956)</tspan>\n",
       "    <tspan class=\"displacy-tag\" dy=\"2em\" fill=\"currentColor\" x=\"1100\">NUM</tspan>\n",
       "</text>\n",
       "\n",
       "<text class=\"displacy-token\" fill=\"currentColor\" text-anchor=\"middle\" y=\"834.5\">\n",
       "    <tspan class=\"displacy-word\" fill=\"currentColor\" x=\"1275\">is</tspan>\n",
       "    <tspan class=\"displacy-tag\" dy=\"2em\" fill=\"currentColor\" x=\"1275\">AUX</tspan>\n",
       "</text>\n",
       "\n",
       "<text class=\"displacy-token\" fill=\"currentColor\" text-anchor=\"middle\" y=\"834.5\">\n",
       "    <tspan class=\"displacy-word\" fill=\"currentColor\" x=\"1450\">a</tspan>\n",
       "    <tspan class=\"displacy-tag\" dy=\"2em\" fill=\"currentColor\" x=\"1450\">DET</tspan>\n",
       "</text>\n",
       "\n",
       "<text class=\"displacy-token\" fill=\"currentColor\" text-anchor=\"middle\" y=\"834.5\">\n",
       "    <tspan class=\"displacy-word\" fill=\"currentColor\" x=\"1625\">Dutch</tspan>\n",
       "    <tspan class=\"displacy-tag\" dy=\"2em\" fill=\"currentColor\" x=\"1625\">ADJ</tspan>\n",
       "</text>\n",
       "\n",
       "<text class=\"displacy-token\" fill=\"currentColor\" text-anchor=\"middle\" y=\"834.5\">\n",
       "    <tspan class=\"displacy-word\" fill=\"currentColor\" x=\"1800\">programmer</tspan>\n",
       "    <tspan class=\"displacy-tag\" dy=\"2em\" fill=\"currentColor\" x=\"1800\">NOUN</tspan>\n",
       "</text>\n",
       "\n",
       "<text class=\"displacy-token\" fill=\"currentColor\" text-anchor=\"middle\" y=\"834.5\">\n",
       "    <tspan class=\"displacy-word\" fill=\"currentColor\" x=\"1975\">best</tspan>\n",
       "    <tspan class=\"displacy-tag\" dy=\"2em\" fill=\"currentColor\" x=\"1975\">ADV</tspan>\n",
       "</text>\n",
       "\n",
       "<text class=\"displacy-token\" fill=\"currentColor\" text-anchor=\"middle\" y=\"834.5\">\n",
       "    <tspan class=\"displacy-word\" fill=\"currentColor\" x=\"2150\">known</tspan>\n",
       "    <tspan class=\"displacy-tag\" dy=\"2em\" fill=\"currentColor\" x=\"2150\">VERB</tspan>\n",
       "</text>\n",
       "\n",
       "<text class=\"displacy-token\" fill=\"currentColor\" text-anchor=\"middle\" y=\"834.5\">\n",
       "    <tspan class=\"displacy-word\" fill=\"currentColor\" x=\"2325\">as</tspan>\n",
       "    <tspan class=\"displacy-tag\" dy=\"2em\" fill=\"currentColor\" x=\"2325\">ADP</tspan>\n",
       "</text>\n",
       "\n",
       "<text class=\"displacy-token\" fill=\"currentColor\" text-anchor=\"middle\" y=\"834.5\">\n",
       "    <tspan class=\"displacy-word\" fill=\"currentColor\" x=\"2500\">the</tspan>\n",
       "    <tspan class=\"displacy-tag\" dy=\"2em\" fill=\"currentColor\" x=\"2500\">DET</tspan>\n",
       "</text>\n",
       "\n",
       "<text class=\"displacy-token\" fill=\"currentColor\" text-anchor=\"middle\" y=\"834.5\">\n",
       "    <tspan class=\"displacy-word\" fill=\"currentColor\" x=\"2675\">creator</tspan>\n",
       "    <tspan class=\"displacy-tag\" dy=\"2em\" fill=\"currentColor\" x=\"2675\">NOUN</tspan>\n",
       "</text>\n",
       "\n",
       "<text class=\"displacy-token\" fill=\"currentColor\" text-anchor=\"middle\" y=\"834.5\">\n",
       "    <tspan class=\"displacy-word\" fill=\"currentColor\" x=\"2850\">of</tspan>\n",
       "    <tspan class=\"displacy-tag\" dy=\"2em\" fill=\"currentColor\" x=\"2850\">ADP</tspan>\n",
       "</text>\n",
       "\n",
       "<text class=\"displacy-token\" fill=\"currentColor\" text-anchor=\"middle\" y=\"834.5\">\n",
       "    <tspan class=\"displacy-word\" fill=\"currentColor\" x=\"3025\">the</tspan>\n",
       "    <tspan class=\"displacy-tag\" dy=\"2em\" fill=\"currentColor\" x=\"3025\">DET</tspan>\n",
       "</text>\n",
       "\n",
       "<text class=\"displacy-token\" fill=\"currentColor\" text-anchor=\"middle\" y=\"834.5\">\n",
       "    <tspan class=\"displacy-word\" fill=\"currentColor\" x=\"3200\">Python</tspan>\n",
       "    <tspan class=\"displacy-tag\" dy=\"2em\" fill=\"currentColor\" x=\"3200\">PROPN</tspan>\n",
       "</text>\n",
       "\n",
       "<text class=\"displacy-token\" fill=\"currentColor\" text-anchor=\"middle\" y=\"834.5\">\n",
       "    <tspan class=\"displacy-word\" fill=\"currentColor\" x=\"3375\">programming</tspan>\n",
       "    <tspan class=\"displacy-tag\" dy=\"2em\" fill=\"currentColor\" x=\"3375\">NOUN</tspan>\n",
       "</text>\n",
       "\n",
       "<text class=\"displacy-token\" fill=\"currentColor\" text-anchor=\"middle\" y=\"834.5\">\n",
       "    <tspan class=\"displacy-word\" fill=\"currentColor\" x=\"3550\">language,</tspan>\n",
       "    <tspan class=\"displacy-tag\" dy=\"2em\" fill=\"currentColor\" x=\"3550\">NOUN</tspan>\n",
       "</text>\n",
       "\n",
       "<text class=\"displacy-token\" fill=\"currentColor\" text-anchor=\"middle\" y=\"834.5\">\n",
       "    <tspan class=\"displacy-word\" fill=\"currentColor\" x=\"3725\">for</tspan>\n",
       "    <tspan class=\"displacy-tag\" dy=\"2em\" fill=\"currentColor\" x=\"3725\">ADP</tspan>\n",
       "</text>\n",
       "\n",
       "<text class=\"displacy-token\" fill=\"currentColor\" text-anchor=\"middle\" y=\"834.5\">\n",
       "    <tspan class=\"displacy-word\" fill=\"currentColor\" x=\"3900\">which</tspan>\n",
       "    <tspan class=\"displacy-tag\" dy=\"2em\" fill=\"currentColor\" x=\"3900\">PRON</tspan>\n",
       "</text>\n",
       "\n",
       "<text class=\"displacy-token\" fill=\"currentColor\" text-anchor=\"middle\" y=\"834.5\">\n",
       "    <tspan class=\"displacy-word\" fill=\"currentColor\" x=\"4075\">he</tspan>\n",
       "    <tspan class=\"displacy-tag\" dy=\"2em\" fill=\"currentColor\" x=\"4075\">PRON</tspan>\n",
       "</text>\n",
       "\n",
       "<text class=\"displacy-token\" fill=\"currentColor\" text-anchor=\"middle\" y=\"834.5\">\n",
       "    <tspan class=\"displacy-word\" fill=\"currentColor\" x=\"4250\">was</tspan>\n",
       "    <tspan class=\"displacy-tag\" dy=\"2em\" fill=\"currentColor\" x=\"4250\">AUX</tspan>\n",
       "</text>\n",
       "\n",
       "<text class=\"displacy-token\" fill=\"currentColor\" text-anchor=\"middle\" y=\"834.5\">\n",
       "    <tspan class=\"displacy-word\" fill=\"currentColor\" x=\"4425\">the &quot;</tspan>\n",
       "    <tspan class=\"displacy-tag\" dy=\"2em\" fill=\"currentColor\" x=\"4425\">DET</tspan>\n",
       "</text>\n",
       "\n",
       "<text class=\"displacy-token\" fill=\"currentColor\" text-anchor=\"middle\" y=\"834.5\">\n",
       "    <tspan class=\"displacy-word\" fill=\"currentColor\" x=\"4600\">benevolent</tspan>\n",
       "    <tspan class=\"displacy-tag\" dy=\"2em\" fill=\"currentColor\" x=\"4600\">ADJ</tspan>\n",
       "</text>\n",
       "\n",
       "<text class=\"displacy-token\" fill=\"currentColor\" text-anchor=\"middle\" y=\"834.5\">\n",
       "    <tspan class=\"displacy-word\" fill=\"currentColor\" x=\"4775\">dictator</tspan>\n",
       "    <tspan class=\"displacy-tag\" dy=\"2em\" fill=\"currentColor\" x=\"4775\">NOUN</tspan>\n",
       "</text>\n",
       "\n",
       "<text class=\"displacy-token\" fill=\"currentColor\" text-anchor=\"middle\" y=\"834.5\">\n",
       "    <tspan class=\"displacy-word\" fill=\"currentColor\" x=\"4950\">for</tspan>\n",
       "    <tspan class=\"displacy-tag\" dy=\"2em\" fill=\"currentColor\" x=\"4950\">ADP</tspan>\n",
       "</text>\n",
       "\n",
       "<text class=\"displacy-token\" fill=\"currentColor\" text-anchor=\"middle\" y=\"834.5\">\n",
       "    <tspan class=\"displacy-word\" fill=\"currentColor\" x=\"5125\">life&quot; (</tspan>\n",
       "    <tspan class=\"displacy-tag\" dy=\"2em\" fill=\"currentColor\" x=\"5125\">NOUN</tspan>\n",
       "</text>\n",
       "\n",
       "<text class=\"displacy-token\" fill=\"currentColor\" text-anchor=\"middle\" y=\"834.5\">\n",
       "    <tspan class=\"displacy-word\" fill=\"currentColor\" x=\"5300\">BDFL)</tspan>\n",
       "    <tspan class=\"displacy-tag\" dy=\"2em\" fill=\"currentColor\" x=\"5300\">PROPN</tspan>\n",
       "</text>\n",
       "\n",
       "<text class=\"displacy-token\" fill=\"currentColor\" text-anchor=\"middle\" y=\"834.5\">\n",
       "    <tspan class=\"displacy-word\" fill=\"currentColor\" x=\"5475\">until</tspan>\n",
       "    <tspan class=\"displacy-tag\" dy=\"2em\" fill=\"currentColor\" x=\"5475\">SCONJ</tspan>\n",
       "</text>\n",
       "\n",
       "<text class=\"displacy-token\" fill=\"currentColor\" text-anchor=\"middle\" y=\"834.5\">\n",
       "    <tspan class=\"displacy-word\" fill=\"currentColor\" x=\"5650\">he</tspan>\n",
       "    <tspan class=\"displacy-tag\" dy=\"2em\" fill=\"currentColor\" x=\"5650\">PRON</tspan>\n",
       "</text>\n",
       "\n",
       "<text class=\"displacy-token\" fill=\"currentColor\" text-anchor=\"middle\" y=\"834.5\">\n",
       "    <tspan class=\"displacy-word\" fill=\"currentColor\" x=\"5825\">stepped</tspan>\n",
       "    <tspan class=\"displacy-tag\" dy=\"2em\" fill=\"currentColor\" x=\"5825\">VERB</tspan>\n",
       "</text>\n",
       "\n",
       "<text class=\"displacy-token\" fill=\"currentColor\" text-anchor=\"middle\" y=\"834.5\">\n",
       "    <tspan class=\"displacy-word\" fill=\"currentColor\" x=\"6000\">down</tspan>\n",
       "    <tspan class=\"displacy-tag\" dy=\"2em\" fill=\"currentColor\" x=\"6000\">ADV</tspan>\n",
       "</text>\n",
       "\n",
       "<text class=\"displacy-token\" fill=\"currentColor\" text-anchor=\"middle\" y=\"834.5\">\n",
       "    <tspan class=\"displacy-word\" fill=\"currentColor\" x=\"6175\">from</tspan>\n",
       "    <tspan class=\"displacy-tag\" dy=\"2em\" fill=\"currentColor\" x=\"6175\">ADP</tspan>\n",
       "</text>\n",
       "\n",
       "<text class=\"displacy-token\" fill=\"currentColor\" text-anchor=\"middle\" y=\"834.5\">\n",
       "    <tspan class=\"displacy-word\" fill=\"currentColor\" x=\"6350\">the</tspan>\n",
       "    <tspan class=\"displacy-tag\" dy=\"2em\" fill=\"currentColor\" x=\"6350\">DET</tspan>\n",
       "</text>\n",
       "\n",
       "<text class=\"displacy-token\" fill=\"currentColor\" text-anchor=\"middle\" y=\"834.5\">\n",
       "    <tspan class=\"displacy-word\" fill=\"currentColor\" x=\"6525\">position</tspan>\n",
       "    <tspan class=\"displacy-tag\" dy=\"2em\" fill=\"currentColor\" x=\"6525\">NOUN</tspan>\n",
       "</text>\n",
       "\n",
       "<text class=\"displacy-token\" fill=\"currentColor\" text-anchor=\"middle\" y=\"834.5\">\n",
       "    <tspan class=\"displacy-word\" fill=\"currentColor\" x=\"6700\">in</tspan>\n",
       "    <tspan class=\"displacy-tag\" dy=\"2em\" fill=\"currentColor\" x=\"6700\">ADP</tspan>\n",
       "</text>\n",
       "\n",
       "<text class=\"displacy-token\" fill=\"currentColor\" text-anchor=\"middle\" y=\"834.5\">\n",
       "    <tspan class=\"displacy-word\" fill=\"currentColor\" x=\"6875\">July</tspan>\n",
       "    <tspan class=\"displacy-tag\" dy=\"2em\" fill=\"currentColor\" x=\"6875\">PROPN</tspan>\n",
       "</text>\n",
       "\n",
       "<text class=\"displacy-token\" fill=\"currentColor\" text-anchor=\"middle\" y=\"834.5\">\n",
       "    <tspan class=\"displacy-word\" fill=\"currentColor\" x=\"7050\">2018.</tspan>\n",
       "    <tspan class=\"displacy-tag\" dy=\"2em\" fill=\"currentColor\" x=\"7050\">NUM</tspan>\n",
       "</text>\n",
       "\n",
       "<text class=\"displacy-token\" fill=\"currentColor\" text-anchor=\"middle\" y=\"834.5\">\n",
       "    <tspan class=\"displacy-word\" fill=\"currentColor\" x=\"7225\">He</tspan>\n",
       "    <tspan class=\"displacy-tag\" dy=\"2em\" fill=\"currentColor\" x=\"7225\">PRON</tspan>\n",
       "</text>\n",
       "\n",
       "<text class=\"displacy-token\" fill=\"currentColor\" text-anchor=\"middle\" y=\"834.5\">\n",
       "    <tspan class=\"displacy-word\" fill=\"currentColor\" x=\"7400\">remained</tspan>\n",
       "    <tspan class=\"displacy-tag\" dy=\"2em\" fill=\"currentColor\" x=\"7400\">VERB</tspan>\n",
       "</text>\n",
       "\n",
       "<text class=\"displacy-token\" fill=\"currentColor\" text-anchor=\"middle\" y=\"834.5\">\n",
       "    <tspan class=\"displacy-word\" fill=\"currentColor\" x=\"7575\">a</tspan>\n",
       "    <tspan class=\"displacy-tag\" dy=\"2em\" fill=\"currentColor\" x=\"7575\">DET</tspan>\n",
       "</text>\n",
       "\n",
       "<text class=\"displacy-token\" fill=\"currentColor\" text-anchor=\"middle\" y=\"834.5\">\n",
       "    <tspan class=\"displacy-word\" fill=\"currentColor\" x=\"7750\">member</tspan>\n",
       "    <tspan class=\"displacy-tag\" dy=\"2em\" fill=\"currentColor\" x=\"7750\">NOUN</tspan>\n",
       "</text>\n",
       "\n",
       "<text class=\"displacy-token\" fill=\"currentColor\" text-anchor=\"middle\" y=\"834.5\">\n",
       "    <tspan class=\"displacy-word\" fill=\"currentColor\" x=\"7925\">of</tspan>\n",
       "    <tspan class=\"displacy-tag\" dy=\"2em\" fill=\"currentColor\" x=\"7925\">ADP</tspan>\n",
       "</text>\n",
       "\n",
       "<text class=\"displacy-token\" fill=\"currentColor\" text-anchor=\"middle\" y=\"834.5\">\n",
       "    <tspan class=\"displacy-word\" fill=\"currentColor\" x=\"8100\">the</tspan>\n",
       "    <tspan class=\"displacy-tag\" dy=\"2em\" fill=\"currentColor\" x=\"8100\">DET</tspan>\n",
       "</text>\n",
       "\n",
       "<text class=\"displacy-token\" fill=\"currentColor\" text-anchor=\"middle\" y=\"834.5\">\n",
       "    <tspan class=\"displacy-word\" fill=\"currentColor\" x=\"8275\">Python</tspan>\n",
       "    <tspan class=\"displacy-tag\" dy=\"2em\" fill=\"currentColor\" x=\"8275\">PROPN</tspan>\n",
       "</text>\n",
       "\n",
       "<text class=\"displacy-token\" fill=\"currentColor\" text-anchor=\"middle\" y=\"834.5\">\n",
       "    <tspan class=\"displacy-word\" fill=\"currentColor\" x=\"8450\">Steering</tspan>\n",
       "    <tspan class=\"displacy-tag\" dy=\"2em\" fill=\"currentColor\" x=\"8450\">PROPN</tspan>\n",
       "</text>\n",
       "\n",
       "<text class=\"displacy-token\" fill=\"currentColor\" text-anchor=\"middle\" y=\"834.5\">\n",
       "    <tspan class=\"displacy-word\" fill=\"currentColor\" x=\"8625\">Council</tspan>\n",
       "    <tspan class=\"displacy-tag\" dy=\"2em\" fill=\"currentColor\" x=\"8625\">PROPN</tspan>\n",
       "</text>\n",
       "\n",
       "<text class=\"displacy-token\" fill=\"currentColor\" text-anchor=\"middle\" y=\"834.5\">\n",
       "    <tspan class=\"displacy-word\" fill=\"currentColor\" x=\"8800\">through</tspan>\n",
       "    <tspan class=\"displacy-tag\" dy=\"2em\" fill=\"currentColor\" x=\"8800\">ADP</tspan>\n",
       "</text>\n",
       "\n",
       "<text class=\"displacy-token\" fill=\"currentColor\" text-anchor=\"middle\" y=\"834.5\">\n",
       "    <tspan class=\"displacy-word\" fill=\"currentColor\" x=\"8975\">2019,</tspan>\n",
       "    <tspan class=\"displacy-tag\" dy=\"2em\" fill=\"currentColor\" x=\"8975\">NUM</tspan>\n",
       "</text>\n",
       "\n",
       "<text class=\"displacy-token\" fill=\"currentColor\" text-anchor=\"middle\" y=\"834.5\">\n",
       "    <tspan class=\"displacy-word\" fill=\"currentColor\" x=\"9150\">and</tspan>\n",
       "    <tspan class=\"displacy-tag\" dy=\"2em\" fill=\"currentColor\" x=\"9150\">CCONJ</tspan>\n",
       "</text>\n",
       "\n",
       "<text class=\"displacy-token\" fill=\"currentColor\" text-anchor=\"middle\" y=\"834.5\">\n",
       "    <tspan class=\"displacy-word\" fill=\"currentColor\" x=\"9325\">withdrew</tspan>\n",
       "    <tspan class=\"displacy-tag\" dy=\"2em\" fill=\"currentColor\" x=\"9325\">VERB</tspan>\n",
       "</text>\n",
       "\n",
       "<text class=\"displacy-token\" fill=\"currentColor\" text-anchor=\"middle\" y=\"834.5\">\n",
       "    <tspan class=\"displacy-word\" fill=\"currentColor\" x=\"9500\">from</tspan>\n",
       "    <tspan class=\"displacy-tag\" dy=\"2em\" fill=\"currentColor\" x=\"9500\">ADP</tspan>\n",
       "</text>\n",
       "\n",
       "<text class=\"displacy-token\" fill=\"currentColor\" text-anchor=\"middle\" y=\"834.5\">\n",
       "    <tspan class=\"displacy-word\" fill=\"currentColor\" x=\"9675\">nominations</tspan>\n",
       "    <tspan class=\"displacy-tag\" dy=\"2em\" fill=\"currentColor\" x=\"9675\">NOUN</tspan>\n",
       "</text>\n",
       "\n",
       "<text class=\"displacy-token\" fill=\"currentColor\" text-anchor=\"middle\" y=\"834.5\">\n",
       "    <tspan class=\"displacy-word\" fill=\"currentColor\" x=\"9850\">for</tspan>\n",
       "    <tspan class=\"displacy-tag\" dy=\"2em\" fill=\"currentColor\" x=\"9850\">ADP</tspan>\n",
       "</text>\n",
       "\n",
       "<text class=\"displacy-token\" fill=\"currentColor\" text-anchor=\"middle\" y=\"834.5\">\n",
       "    <tspan class=\"displacy-word\" fill=\"currentColor\" x=\"10025\">the</tspan>\n",
       "    <tspan class=\"displacy-tag\" dy=\"2em\" fill=\"currentColor\" x=\"10025\">DET</tspan>\n",
       "</text>\n",
       "\n",
       "<text class=\"displacy-token\" fill=\"currentColor\" text-anchor=\"middle\" y=\"834.5\">\n",
       "    <tspan class=\"displacy-word\" fill=\"currentColor\" x=\"10200\">2020</tspan>\n",
       "    <tspan class=\"displacy-tag\" dy=\"2em\" fill=\"currentColor\" x=\"10200\">NUM</tspan>\n",
       "</text>\n",
       "\n",
       "<text class=\"displacy-token\" fill=\"currentColor\" text-anchor=\"middle\" y=\"834.5\">\n",
       "    <tspan class=\"displacy-word\" fill=\"currentColor\" x=\"10375\">election.</tspan>\n",
       "    <tspan class=\"displacy-tag\" dy=\"2em\" fill=\"currentColor\" x=\"10375\">NOUN</tspan>\n",
       "</text>\n",
       "\n",
       "<g class=\"displacy-arrow\">\n",
       "    <path class=\"displacy-arc\" id=\"arrow-fb4e6abac95f47e0babc659621956c18-0-0\" stroke-width=\"2px\" d=\"M70,789.5 C70,614.5 365.0,614.5 365.0,789.5\" fill=\"none\" stroke=\"currentColor\"/>\n",
       "    <text dy=\"1.25em\" style=\"font-size: 0.8em; letter-spacing: 1px\">\n",
       "        <textPath xlink:href=\"#arrow-fb4e6abac95f47e0babc659621956c18-0-0\" class=\"displacy-label\" startOffset=\"50%\" side=\"left\" fill=\"currentColor\" text-anchor=\"middle\">compound</textPath>\n",
       "    </text>\n",
       "    <path class=\"displacy-arrowhead\" d=\"M70,791.5 L62,779.5 78,779.5\" fill=\"currentColor\"/>\n",
       "</g>\n",
       "\n",
       "<g class=\"displacy-arrow\">\n",
       "    <path class=\"displacy-arc\" id=\"arrow-fb4e6abac95f47e0babc659621956c18-0-1\" stroke-width=\"2px\" d=\"M245,789.5 C245,702.0 360.0,702.0 360.0,789.5\" fill=\"none\" stroke=\"currentColor\"/>\n",
       "    <text dy=\"1.25em\" style=\"font-size: 0.8em; letter-spacing: 1px\">\n",
       "        <textPath xlink:href=\"#arrow-fb4e6abac95f47e0babc659621956c18-0-1\" class=\"displacy-label\" startOffset=\"50%\" side=\"left\" fill=\"currentColor\" text-anchor=\"middle\">compound</textPath>\n",
       "    </text>\n",
       "    <path class=\"displacy-arrowhead\" d=\"M245,791.5 L237,779.5 253,779.5\" fill=\"currentColor\"/>\n",
       "</g>\n",
       "\n",
       "<g class=\"displacy-arrow\">\n",
       "    <path class=\"displacy-arc\" id=\"arrow-fb4e6abac95f47e0babc659621956c18-0-2\" stroke-width=\"2px\" d=\"M420,789.5 C420,352.0 1255.0,352.0 1255.0,789.5\" fill=\"none\" stroke=\"currentColor\"/>\n",
       "    <text dy=\"1.25em\" style=\"font-size: 0.8em; letter-spacing: 1px\">\n",
       "        <textPath xlink:href=\"#arrow-fb4e6abac95f47e0babc659621956c18-0-2\" class=\"displacy-label\" startOffset=\"50%\" side=\"left\" fill=\"currentColor\" text-anchor=\"middle\">nsubj</textPath>\n",
       "    </text>\n",
       "    <path class=\"displacy-arrowhead\" d=\"M420,791.5 L412,779.5 428,779.5\" fill=\"currentColor\"/>\n",
       "</g>\n",
       "\n",
       "<g class=\"displacy-arrow\">\n",
       "    <path class=\"displacy-arc\" id=\"arrow-fb4e6abac95f47e0babc659621956c18-0-3\" stroke-width=\"2px\" d=\"M420,789.5 C420,702.0 535.0,702.0 535.0,789.5\" fill=\"none\" stroke=\"currentColor\"/>\n",
       "    <text dy=\"1.25em\" style=\"font-size: 0.8em; letter-spacing: 1px\">\n",
       "        <textPath xlink:href=\"#arrow-fb4e6abac95f47e0babc659621956c18-0-3\" class=\"displacy-label\" startOffset=\"50%\" side=\"left\" fill=\"currentColor\" text-anchor=\"middle\">acl</textPath>\n",
       "    </text>\n",
       "    <path class=\"displacy-arrowhead\" d=\"M535.0,791.5 L543.0,779.5 527.0,779.5\" fill=\"currentColor\"/>\n",
       "</g>\n",
       "\n",
       "<g class=\"displacy-arrow\">\n",
       "    <path class=\"displacy-arc\" id=\"arrow-fb4e6abac95f47e0babc659621956c18-0-4\" stroke-width=\"2px\" d=\"M770,789.5 C770,702.0 885.0,702.0 885.0,789.5\" fill=\"none\" stroke=\"currentColor\"/>\n",
       "    <text dy=\"1.25em\" style=\"font-size: 0.8em; letter-spacing: 1px\">\n",
       "        <textPath xlink:href=\"#arrow-fb4e6abac95f47e0babc659621956c18-0-4\" class=\"displacy-label\" startOffset=\"50%\" side=\"left\" fill=\"currentColor\" text-anchor=\"middle\">nummod</textPath>\n",
       "    </text>\n",
       "    <path class=\"displacy-arrowhead\" d=\"M770,791.5 L762,779.5 778,779.5\" fill=\"currentColor\"/>\n",
       "</g>\n",
       "\n",
       "<g class=\"displacy-arrow\">\n",
       "    <path class=\"displacy-arc\" id=\"arrow-fb4e6abac95f47e0babc659621956c18-0-5\" stroke-width=\"2px\" d=\"M595,789.5 C595,614.5 890.0,614.5 890.0,789.5\" fill=\"none\" stroke=\"currentColor\"/>\n",
       "    <text dy=\"1.25em\" style=\"font-size: 0.8em; letter-spacing: 1px\">\n",
       "        <textPath xlink:href=\"#arrow-fb4e6abac95f47e0babc659621956c18-0-5\" class=\"displacy-label\" startOffset=\"50%\" side=\"left\" fill=\"currentColor\" text-anchor=\"middle\">npadvmod</textPath>\n",
       "    </text>\n",
       "    <path class=\"displacy-arrowhead\" d=\"M890.0,791.5 L898.0,779.5 882.0,779.5\" fill=\"currentColor\"/>\n",
       "</g>\n",
       "\n",
       "<g class=\"displacy-arrow\">\n",
       "    <path class=\"displacy-arc\" id=\"arrow-fb4e6abac95f47e0babc659621956c18-0-6\" stroke-width=\"2px\" d=\"M945,789.5 C945,702.0 1060.0,702.0 1060.0,789.5\" fill=\"none\" stroke=\"currentColor\"/>\n",
       "    <text dy=\"1.25em\" style=\"font-size: 0.8em; letter-spacing: 1px\">\n",
       "        <textPath xlink:href=\"#arrow-fb4e6abac95f47e0babc659621956c18-0-6\" class=\"displacy-label\" startOffset=\"50%\" side=\"left\" fill=\"currentColor\" text-anchor=\"middle\">nummod</textPath>\n",
       "    </text>\n",
       "    <path class=\"displacy-arrowhead\" d=\"M1060.0,791.5 L1068.0,779.5 1052.0,779.5\" fill=\"currentColor\"/>\n",
       "</g>\n",
       "\n",
       "<g class=\"displacy-arrow\">\n",
       "    <path class=\"displacy-arc\" id=\"arrow-fb4e6abac95f47e0babc659621956c18-0-7\" stroke-width=\"2px\" d=\"M1470,789.5 C1470,614.5 1765.0,614.5 1765.0,789.5\" fill=\"none\" stroke=\"currentColor\"/>\n",
       "    <text dy=\"1.25em\" style=\"font-size: 0.8em; letter-spacing: 1px\">\n",
       "        <textPath xlink:href=\"#arrow-fb4e6abac95f47e0babc659621956c18-0-7\" class=\"displacy-label\" startOffset=\"50%\" side=\"left\" fill=\"currentColor\" text-anchor=\"middle\">det</textPath>\n",
       "    </text>\n",
       "    <path class=\"displacy-arrowhead\" d=\"M1470,791.5 L1462,779.5 1478,779.5\" fill=\"currentColor\"/>\n",
       "</g>\n",
       "\n",
       "<g class=\"displacy-arrow\">\n",
       "    <path class=\"displacy-arc\" id=\"arrow-fb4e6abac95f47e0babc659621956c18-0-8\" stroke-width=\"2px\" d=\"M1645,789.5 C1645,702.0 1760.0,702.0 1760.0,789.5\" fill=\"none\" stroke=\"currentColor\"/>\n",
       "    <text dy=\"1.25em\" style=\"font-size: 0.8em; letter-spacing: 1px\">\n",
       "        <textPath xlink:href=\"#arrow-fb4e6abac95f47e0babc659621956c18-0-8\" class=\"displacy-label\" startOffset=\"50%\" side=\"left\" fill=\"currentColor\" text-anchor=\"middle\">amod</textPath>\n",
       "    </text>\n",
       "    <path class=\"displacy-arrowhead\" d=\"M1645,791.5 L1637,779.5 1653,779.5\" fill=\"currentColor\"/>\n",
       "</g>\n",
       "\n",
       "<g class=\"displacy-arrow\">\n",
       "    <path class=\"displacy-arc\" id=\"arrow-fb4e6abac95f47e0babc659621956c18-0-9\" stroke-width=\"2px\" d=\"M1295,789.5 C1295,527.0 1770.0,527.0 1770.0,789.5\" fill=\"none\" stroke=\"currentColor\"/>\n",
       "    <text dy=\"1.25em\" style=\"font-size: 0.8em; letter-spacing: 1px\">\n",
       "        <textPath xlink:href=\"#arrow-fb4e6abac95f47e0babc659621956c18-0-9\" class=\"displacy-label\" startOffset=\"50%\" side=\"left\" fill=\"currentColor\" text-anchor=\"middle\">attr</textPath>\n",
       "    </text>\n",
       "    <path class=\"displacy-arrowhead\" d=\"M1770.0,791.5 L1778.0,779.5 1762.0,779.5\" fill=\"currentColor\"/>\n",
       "</g>\n",
       "\n",
       "<g class=\"displacy-arrow\">\n",
       "    <path class=\"displacy-arc\" id=\"arrow-fb4e6abac95f47e0babc659621956c18-0-10\" stroke-width=\"2px\" d=\"M1995,789.5 C1995,702.0 2110.0,702.0 2110.0,789.5\" fill=\"none\" stroke=\"currentColor\"/>\n",
       "    <text dy=\"1.25em\" style=\"font-size: 0.8em; letter-spacing: 1px\">\n",
       "        <textPath xlink:href=\"#arrow-fb4e6abac95f47e0babc659621956c18-0-10\" class=\"displacy-label\" startOffset=\"50%\" side=\"left\" fill=\"currentColor\" text-anchor=\"middle\">advmod</textPath>\n",
       "    </text>\n",
       "    <path class=\"displacy-arrowhead\" d=\"M1995,791.5 L1987,779.5 2003,779.5\" fill=\"currentColor\"/>\n",
       "</g>\n",
       "\n",
       "<g class=\"displacy-arrow\">\n",
       "    <path class=\"displacy-arc\" id=\"arrow-fb4e6abac95f47e0babc659621956c18-0-11\" stroke-width=\"2px\" d=\"M1820,789.5 C1820,614.5 2115.0,614.5 2115.0,789.5\" fill=\"none\" stroke=\"currentColor\"/>\n",
       "    <text dy=\"1.25em\" style=\"font-size: 0.8em; letter-spacing: 1px\">\n",
       "        <textPath xlink:href=\"#arrow-fb4e6abac95f47e0babc659621956c18-0-11\" class=\"displacy-label\" startOffset=\"50%\" side=\"left\" fill=\"currentColor\" text-anchor=\"middle\">acl</textPath>\n",
       "    </text>\n",
       "    <path class=\"displacy-arrowhead\" d=\"M2115.0,791.5 L2123.0,779.5 2107.0,779.5\" fill=\"currentColor\"/>\n",
       "</g>\n",
       "\n",
       "<g class=\"displacy-arrow\">\n",
       "    <path class=\"displacy-arc\" id=\"arrow-fb4e6abac95f47e0babc659621956c18-0-12\" stroke-width=\"2px\" d=\"M2170,789.5 C2170,702.0 2285.0,702.0 2285.0,789.5\" fill=\"none\" stroke=\"currentColor\"/>\n",
       "    <text dy=\"1.25em\" style=\"font-size: 0.8em; letter-spacing: 1px\">\n",
       "        <textPath xlink:href=\"#arrow-fb4e6abac95f47e0babc659621956c18-0-12\" class=\"displacy-label\" startOffset=\"50%\" side=\"left\" fill=\"currentColor\" text-anchor=\"middle\">prep</textPath>\n",
       "    </text>\n",
       "    <path class=\"displacy-arrowhead\" d=\"M2285.0,791.5 L2293.0,779.5 2277.0,779.5\" fill=\"currentColor\"/>\n",
       "</g>\n",
       "\n",
       "<g class=\"displacy-arrow\">\n",
       "    <path class=\"displacy-arc\" id=\"arrow-fb4e6abac95f47e0babc659621956c18-0-13\" stroke-width=\"2px\" d=\"M2520,789.5 C2520,702.0 2635.0,702.0 2635.0,789.5\" fill=\"none\" stroke=\"currentColor\"/>\n",
       "    <text dy=\"1.25em\" style=\"font-size: 0.8em; letter-spacing: 1px\">\n",
       "        <textPath xlink:href=\"#arrow-fb4e6abac95f47e0babc659621956c18-0-13\" class=\"displacy-label\" startOffset=\"50%\" side=\"left\" fill=\"currentColor\" text-anchor=\"middle\">det</textPath>\n",
       "    </text>\n",
       "    <path class=\"displacy-arrowhead\" d=\"M2520,791.5 L2512,779.5 2528,779.5\" fill=\"currentColor\"/>\n",
       "</g>\n",
       "\n",
       "<g class=\"displacy-arrow\">\n",
       "    <path class=\"displacy-arc\" id=\"arrow-fb4e6abac95f47e0babc659621956c18-0-14\" stroke-width=\"2px\" d=\"M2345,789.5 C2345,614.5 2640.0,614.5 2640.0,789.5\" fill=\"none\" stroke=\"currentColor\"/>\n",
       "    <text dy=\"1.25em\" style=\"font-size: 0.8em; letter-spacing: 1px\">\n",
       "        <textPath xlink:href=\"#arrow-fb4e6abac95f47e0babc659621956c18-0-14\" class=\"displacy-label\" startOffset=\"50%\" side=\"left\" fill=\"currentColor\" text-anchor=\"middle\">pobj</textPath>\n",
       "    </text>\n",
       "    <path class=\"displacy-arrowhead\" d=\"M2640.0,791.5 L2648.0,779.5 2632.0,779.5\" fill=\"currentColor\"/>\n",
       "</g>\n",
       "\n",
       "<g class=\"displacy-arrow\">\n",
       "    <path class=\"displacy-arc\" id=\"arrow-fb4e6abac95f47e0babc659621956c18-0-15\" stroke-width=\"2px\" d=\"M2695,789.5 C2695,702.0 2810.0,702.0 2810.0,789.5\" fill=\"none\" stroke=\"currentColor\"/>\n",
       "    <text dy=\"1.25em\" style=\"font-size: 0.8em; letter-spacing: 1px\">\n",
       "        <textPath xlink:href=\"#arrow-fb4e6abac95f47e0babc659621956c18-0-15\" class=\"displacy-label\" startOffset=\"50%\" side=\"left\" fill=\"currentColor\" text-anchor=\"middle\">prep</textPath>\n",
       "    </text>\n",
       "    <path class=\"displacy-arrowhead\" d=\"M2810.0,791.5 L2818.0,779.5 2802.0,779.5\" fill=\"currentColor\"/>\n",
       "</g>\n",
       "\n",
       "<g class=\"displacy-arrow\">\n",
       "    <path class=\"displacy-arc\" id=\"arrow-fb4e6abac95f47e0babc659621956c18-0-16\" stroke-width=\"2px\" d=\"M3045,789.5 C3045,527.0 3520.0,527.0 3520.0,789.5\" fill=\"none\" stroke=\"currentColor\"/>\n",
       "    <text dy=\"1.25em\" style=\"font-size: 0.8em; letter-spacing: 1px\">\n",
       "        <textPath xlink:href=\"#arrow-fb4e6abac95f47e0babc659621956c18-0-16\" class=\"displacy-label\" startOffset=\"50%\" side=\"left\" fill=\"currentColor\" text-anchor=\"middle\">det</textPath>\n",
       "    </text>\n",
       "    <path class=\"displacy-arrowhead\" d=\"M3045,791.5 L3037,779.5 3053,779.5\" fill=\"currentColor\"/>\n",
       "</g>\n",
       "\n",
       "<g class=\"displacy-arrow\">\n",
       "    <path class=\"displacy-arc\" id=\"arrow-fb4e6abac95f47e0babc659621956c18-0-17\" stroke-width=\"2px\" d=\"M3220,789.5 C3220,614.5 3515.0,614.5 3515.0,789.5\" fill=\"none\" stroke=\"currentColor\"/>\n",
       "    <text dy=\"1.25em\" style=\"font-size: 0.8em; letter-spacing: 1px\">\n",
       "        <textPath xlink:href=\"#arrow-fb4e6abac95f47e0babc659621956c18-0-17\" class=\"displacy-label\" startOffset=\"50%\" side=\"left\" fill=\"currentColor\" text-anchor=\"middle\">compound</textPath>\n",
       "    </text>\n",
       "    <path class=\"displacy-arrowhead\" d=\"M3220,791.5 L3212,779.5 3228,779.5\" fill=\"currentColor\"/>\n",
       "</g>\n",
       "\n",
       "<g class=\"displacy-arrow\">\n",
       "    <path class=\"displacy-arc\" id=\"arrow-fb4e6abac95f47e0babc659621956c18-0-18\" stroke-width=\"2px\" d=\"M3395,789.5 C3395,702.0 3510.0,702.0 3510.0,789.5\" fill=\"none\" stroke=\"currentColor\"/>\n",
       "    <text dy=\"1.25em\" style=\"font-size: 0.8em; letter-spacing: 1px\">\n",
       "        <textPath xlink:href=\"#arrow-fb4e6abac95f47e0babc659621956c18-0-18\" class=\"displacy-label\" startOffset=\"50%\" side=\"left\" fill=\"currentColor\" text-anchor=\"middle\">compound</textPath>\n",
       "    </text>\n",
       "    <path class=\"displacy-arrowhead\" d=\"M3395,791.5 L3387,779.5 3403,779.5\" fill=\"currentColor\"/>\n",
       "</g>\n",
       "\n",
       "<g class=\"displacy-arrow\">\n",
       "    <path class=\"displacy-arc\" id=\"arrow-fb4e6abac95f47e0babc659621956c18-0-19\" stroke-width=\"2px\" d=\"M2870,789.5 C2870,439.5 3525.0,439.5 3525.0,789.5\" fill=\"none\" stroke=\"currentColor\"/>\n",
       "    <text dy=\"1.25em\" style=\"font-size: 0.8em; letter-spacing: 1px\">\n",
       "        <textPath xlink:href=\"#arrow-fb4e6abac95f47e0babc659621956c18-0-19\" class=\"displacy-label\" startOffset=\"50%\" side=\"left\" fill=\"currentColor\" text-anchor=\"middle\">pobj</textPath>\n",
       "    </text>\n",
       "    <path class=\"displacy-arrowhead\" d=\"M3525.0,791.5 L3533.0,779.5 3517.0,779.5\" fill=\"currentColor\"/>\n",
       "</g>\n",
       "\n",
       "<g class=\"displacy-arrow\">\n",
       "    <path class=\"displacy-arc\" id=\"arrow-fb4e6abac95f47e0babc659621956c18-0-20\" stroke-width=\"2px\" d=\"M3745,789.5 C3745,527.0 4220.0,527.0 4220.0,789.5\" fill=\"none\" stroke=\"currentColor\"/>\n",
       "    <text dy=\"1.25em\" style=\"font-size: 0.8em; letter-spacing: 1px\">\n",
       "        <textPath xlink:href=\"#arrow-fb4e6abac95f47e0babc659621956c18-0-20\" class=\"displacy-label\" startOffset=\"50%\" side=\"left\" fill=\"currentColor\" text-anchor=\"middle\">prep</textPath>\n",
       "    </text>\n",
       "    <path class=\"displacy-arrowhead\" d=\"M3745,791.5 L3737,779.5 3753,779.5\" fill=\"currentColor\"/>\n",
       "</g>\n",
       "\n",
       "<g class=\"displacy-arrow\">\n",
       "    <path class=\"displacy-arc\" id=\"arrow-fb4e6abac95f47e0babc659621956c18-0-21\" stroke-width=\"2px\" d=\"M3745,789.5 C3745,702.0 3860.0,702.0 3860.0,789.5\" fill=\"none\" stroke=\"currentColor\"/>\n",
       "    <text dy=\"1.25em\" style=\"font-size: 0.8em; letter-spacing: 1px\">\n",
       "        <textPath xlink:href=\"#arrow-fb4e6abac95f47e0babc659621956c18-0-21\" class=\"displacy-label\" startOffset=\"50%\" side=\"left\" fill=\"currentColor\" text-anchor=\"middle\">pobj</textPath>\n",
       "    </text>\n",
       "    <path class=\"displacy-arrowhead\" d=\"M3860.0,791.5 L3868.0,779.5 3852.0,779.5\" fill=\"currentColor\"/>\n",
       "</g>\n",
       "\n",
       "<g class=\"displacy-arrow\">\n",
       "    <path class=\"displacy-arc\" id=\"arrow-fb4e6abac95f47e0babc659621956c18-0-22\" stroke-width=\"2px\" d=\"M4095,789.5 C4095,702.0 4210.0,702.0 4210.0,789.5\" fill=\"none\" stroke=\"currentColor\"/>\n",
       "    <text dy=\"1.25em\" style=\"font-size: 0.8em; letter-spacing: 1px\">\n",
       "        <textPath xlink:href=\"#arrow-fb4e6abac95f47e0babc659621956c18-0-22\" class=\"displacy-label\" startOffset=\"50%\" side=\"left\" fill=\"currentColor\" text-anchor=\"middle\">nsubj</textPath>\n",
       "    </text>\n",
       "    <path class=\"displacy-arrowhead\" d=\"M4095,791.5 L4087,779.5 4103,779.5\" fill=\"currentColor\"/>\n",
       "</g>\n",
       "\n",
       "<g class=\"displacy-arrow\">\n",
       "    <path class=\"displacy-arc\" id=\"arrow-fb4e6abac95f47e0babc659621956c18-0-23\" stroke-width=\"2px\" d=\"M2695,789.5 C2695,177.0 4240.0,177.0 4240.0,789.5\" fill=\"none\" stroke=\"currentColor\"/>\n",
       "    <text dy=\"1.25em\" style=\"font-size: 0.8em; letter-spacing: 1px\">\n",
       "        <textPath xlink:href=\"#arrow-fb4e6abac95f47e0babc659621956c18-0-23\" class=\"displacy-label\" startOffset=\"50%\" side=\"left\" fill=\"currentColor\" text-anchor=\"middle\">relcl</textPath>\n",
       "    </text>\n",
       "    <path class=\"displacy-arrowhead\" d=\"M4240.0,791.5 L4248.0,779.5 4232.0,779.5\" fill=\"currentColor\"/>\n",
       "</g>\n",
       "\n",
       "<g class=\"displacy-arrow\">\n",
       "    <path class=\"displacy-arc\" id=\"arrow-fb4e6abac95f47e0babc659621956c18-0-24\" stroke-width=\"2px\" d=\"M4445,789.5 C4445,614.5 4740.0,614.5 4740.0,789.5\" fill=\"none\" stroke=\"currentColor\"/>\n",
       "    <text dy=\"1.25em\" style=\"font-size: 0.8em; letter-spacing: 1px\">\n",
       "        <textPath xlink:href=\"#arrow-fb4e6abac95f47e0babc659621956c18-0-24\" class=\"displacy-label\" startOffset=\"50%\" side=\"left\" fill=\"currentColor\" text-anchor=\"middle\">det</textPath>\n",
       "    </text>\n",
       "    <path class=\"displacy-arrowhead\" d=\"M4445,791.5 L4437,779.5 4453,779.5\" fill=\"currentColor\"/>\n",
       "</g>\n",
       "\n",
       "<g class=\"displacy-arrow\">\n",
       "    <path class=\"displacy-arc\" id=\"arrow-fb4e6abac95f47e0babc659621956c18-0-25\" stroke-width=\"2px\" d=\"M4620,789.5 C4620,702.0 4735.0,702.0 4735.0,789.5\" fill=\"none\" stroke=\"currentColor\"/>\n",
       "    <text dy=\"1.25em\" style=\"font-size: 0.8em; letter-spacing: 1px\">\n",
       "        <textPath xlink:href=\"#arrow-fb4e6abac95f47e0babc659621956c18-0-25\" class=\"displacy-label\" startOffset=\"50%\" side=\"left\" fill=\"currentColor\" text-anchor=\"middle\">amod</textPath>\n",
       "    </text>\n",
       "    <path class=\"displacy-arrowhead\" d=\"M4620,791.5 L4612,779.5 4628,779.5\" fill=\"currentColor\"/>\n",
       "</g>\n",
       "\n",
       "<g class=\"displacy-arrow\">\n",
       "    <path class=\"displacy-arc\" id=\"arrow-fb4e6abac95f47e0babc659621956c18-0-26\" stroke-width=\"2px\" d=\"M4270,789.5 C4270,527.0 4745.0,527.0 4745.0,789.5\" fill=\"none\" stroke=\"currentColor\"/>\n",
       "    <text dy=\"1.25em\" style=\"font-size: 0.8em; letter-spacing: 1px\">\n",
       "        <textPath xlink:href=\"#arrow-fb4e6abac95f47e0babc659621956c18-0-26\" class=\"displacy-label\" startOffset=\"50%\" side=\"left\" fill=\"currentColor\" text-anchor=\"middle\">attr</textPath>\n",
       "    </text>\n",
       "    <path class=\"displacy-arrowhead\" d=\"M4745.0,791.5 L4753.0,779.5 4737.0,779.5\" fill=\"currentColor\"/>\n",
       "</g>\n",
       "\n",
       "<g class=\"displacy-arrow\">\n",
       "    <path class=\"displacy-arc\" id=\"arrow-fb4e6abac95f47e0babc659621956c18-0-27\" stroke-width=\"2px\" d=\"M4795,789.5 C4795,702.0 4910.0,702.0 4910.0,789.5\" fill=\"none\" stroke=\"currentColor\"/>\n",
       "    <text dy=\"1.25em\" style=\"font-size: 0.8em; letter-spacing: 1px\">\n",
       "        <textPath xlink:href=\"#arrow-fb4e6abac95f47e0babc659621956c18-0-27\" class=\"displacy-label\" startOffset=\"50%\" side=\"left\" fill=\"currentColor\" text-anchor=\"middle\">prep</textPath>\n",
       "    </text>\n",
       "    <path class=\"displacy-arrowhead\" d=\"M4910.0,791.5 L4918.0,779.5 4902.0,779.5\" fill=\"currentColor\"/>\n",
       "</g>\n",
       "\n",
       "<g class=\"displacy-arrow\">\n",
       "    <path class=\"displacy-arc\" id=\"arrow-fb4e6abac95f47e0babc659621956c18-0-28\" stroke-width=\"2px\" d=\"M4970,789.5 C4970,702.0 5085.0,702.0 5085.0,789.5\" fill=\"none\" stroke=\"currentColor\"/>\n",
       "    <text dy=\"1.25em\" style=\"font-size: 0.8em; letter-spacing: 1px\">\n",
       "        <textPath xlink:href=\"#arrow-fb4e6abac95f47e0babc659621956c18-0-28\" class=\"displacy-label\" startOffset=\"50%\" side=\"left\" fill=\"currentColor\" text-anchor=\"middle\">pobj</textPath>\n",
       "    </text>\n",
       "    <path class=\"displacy-arrowhead\" d=\"M5085.0,791.5 L5093.0,779.5 5077.0,779.5\" fill=\"currentColor\"/>\n",
       "</g>\n",
       "\n",
       "<g class=\"displacy-arrow\">\n",
       "    <path class=\"displacy-arc\" id=\"arrow-fb4e6abac95f47e0babc659621956c18-0-29\" stroke-width=\"2px\" d=\"M4795,789.5 C4795,527.0 5270.0,527.0 5270.0,789.5\" fill=\"none\" stroke=\"currentColor\"/>\n",
       "    <text dy=\"1.25em\" style=\"font-size: 0.8em; letter-spacing: 1px\">\n",
       "        <textPath xlink:href=\"#arrow-fb4e6abac95f47e0babc659621956c18-0-29\" class=\"displacy-label\" startOffset=\"50%\" side=\"left\" fill=\"currentColor\" text-anchor=\"middle\">appos</textPath>\n",
       "    </text>\n",
       "    <path class=\"displacy-arrowhead\" d=\"M5270.0,791.5 L5278.0,779.5 5262.0,779.5\" fill=\"currentColor\"/>\n",
       "</g>\n",
       "\n",
       "<g class=\"displacy-arrow\">\n",
       "    <path class=\"displacy-arc\" id=\"arrow-fb4e6abac95f47e0babc659621956c18-0-30\" stroke-width=\"2px\" d=\"M5495,789.5 C5495,614.5 5790.0,614.5 5790.0,789.5\" fill=\"none\" stroke=\"currentColor\"/>\n",
       "    <text dy=\"1.25em\" style=\"font-size: 0.8em; letter-spacing: 1px\">\n",
       "        <textPath xlink:href=\"#arrow-fb4e6abac95f47e0babc659621956c18-0-30\" class=\"displacy-label\" startOffset=\"50%\" side=\"left\" fill=\"currentColor\" text-anchor=\"middle\">mark</textPath>\n",
       "    </text>\n",
       "    <path class=\"displacy-arrowhead\" d=\"M5495,791.5 L5487,779.5 5503,779.5\" fill=\"currentColor\"/>\n",
       "</g>\n",
       "\n",
       "<g class=\"displacy-arrow\">\n",
       "    <path class=\"displacy-arc\" id=\"arrow-fb4e6abac95f47e0babc659621956c18-0-31\" stroke-width=\"2px\" d=\"M5670,789.5 C5670,702.0 5785.0,702.0 5785.0,789.5\" fill=\"none\" stroke=\"currentColor\"/>\n",
       "    <text dy=\"1.25em\" style=\"font-size: 0.8em; letter-spacing: 1px\">\n",
       "        <textPath xlink:href=\"#arrow-fb4e6abac95f47e0babc659621956c18-0-31\" class=\"displacy-label\" startOffset=\"50%\" side=\"left\" fill=\"currentColor\" text-anchor=\"middle\">nsubj</textPath>\n",
       "    </text>\n",
       "    <path class=\"displacy-arrowhead\" d=\"M5670,791.5 L5662,779.5 5678,779.5\" fill=\"currentColor\"/>\n",
       "</g>\n",
       "\n",
       "<g class=\"displacy-arrow\">\n",
       "    <path class=\"displacy-arc\" id=\"arrow-fb4e6abac95f47e0babc659621956c18-0-32\" stroke-width=\"2px\" d=\"M4270,789.5 C4270,177.0 5815.0,177.0 5815.0,789.5\" fill=\"none\" stroke=\"currentColor\"/>\n",
       "    <text dy=\"1.25em\" style=\"font-size: 0.8em; letter-spacing: 1px\">\n",
       "        <textPath xlink:href=\"#arrow-fb4e6abac95f47e0babc659621956c18-0-32\" class=\"displacy-label\" startOffset=\"50%\" side=\"left\" fill=\"currentColor\" text-anchor=\"middle\">advcl</textPath>\n",
       "    </text>\n",
       "    <path class=\"displacy-arrowhead\" d=\"M5815.0,791.5 L5823.0,779.5 5807.0,779.5\" fill=\"currentColor\"/>\n",
       "</g>\n",
       "\n",
       "<g class=\"displacy-arrow\">\n",
       "    <path class=\"displacy-arc\" id=\"arrow-fb4e6abac95f47e0babc659621956c18-0-33\" stroke-width=\"2px\" d=\"M5845,789.5 C5845,702.0 5960.0,702.0 5960.0,789.5\" fill=\"none\" stroke=\"currentColor\"/>\n",
       "    <text dy=\"1.25em\" style=\"font-size: 0.8em; letter-spacing: 1px\">\n",
       "        <textPath xlink:href=\"#arrow-fb4e6abac95f47e0babc659621956c18-0-33\" class=\"displacy-label\" startOffset=\"50%\" side=\"left\" fill=\"currentColor\" text-anchor=\"middle\">advmod</textPath>\n",
       "    </text>\n",
       "    <path class=\"displacy-arrowhead\" d=\"M5960.0,791.5 L5968.0,779.5 5952.0,779.5\" fill=\"currentColor\"/>\n",
       "</g>\n",
       "\n",
       "<g class=\"displacy-arrow\">\n",
       "    <path class=\"displacy-arc\" id=\"arrow-fb4e6abac95f47e0babc659621956c18-0-34\" stroke-width=\"2px\" d=\"M5845,789.5 C5845,614.5 6140.0,614.5 6140.0,789.5\" fill=\"none\" stroke=\"currentColor\"/>\n",
       "    <text dy=\"1.25em\" style=\"font-size: 0.8em; letter-spacing: 1px\">\n",
       "        <textPath xlink:href=\"#arrow-fb4e6abac95f47e0babc659621956c18-0-34\" class=\"displacy-label\" startOffset=\"50%\" side=\"left\" fill=\"currentColor\" text-anchor=\"middle\">prep</textPath>\n",
       "    </text>\n",
       "    <path class=\"displacy-arrowhead\" d=\"M6140.0,791.5 L6148.0,779.5 6132.0,779.5\" fill=\"currentColor\"/>\n",
       "</g>\n",
       "\n",
       "<g class=\"displacy-arrow\">\n",
       "    <path class=\"displacy-arc\" id=\"arrow-fb4e6abac95f47e0babc659621956c18-0-35\" stroke-width=\"2px\" d=\"M6370,789.5 C6370,702.0 6485.0,702.0 6485.0,789.5\" fill=\"none\" stroke=\"currentColor\"/>\n",
       "    <text dy=\"1.25em\" style=\"font-size: 0.8em; letter-spacing: 1px\">\n",
       "        <textPath xlink:href=\"#arrow-fb4e6abac95f47e0babc659621956c18-0-35\" class=\"displacy-label\" startOffset=\"50%\" side=\"left\" fill=\"currentColor\" text-anchor=\"middle\">det</textPath>\n",
       "    </text>\n",
       "    <path class=\"displacy-arrowhead\" d=\"M6370,791.5 L6362,779.5 6378,779.5\" fill=\"currentColor\"/>\n",
       "</g>\n",
       "\n",
       "<g class=\"displacy-arrow\">\n",
       "    <path class=\"displacy-arc\" id=\"arrow-fb4e6abac95f47e0babc659621956c18-0-36\" stroke-width=\"2px\" d=\"M6195,789.5 C6195,614.5 6490.0,614.5 6490.0,789.5\" fill=\"none\" stroke=\"currentColor\"/>\n",
       "    <text dy=\"1.25em\" style=\"font-size: 0.8em; letter-spacing: 1px\">\n",
       "        <textPath xlink:href=\"#arrow-fb4e6abac95f47e0babc659621956c18-0-36\" class=\"displacy-label\" startOffset=\"50%\" side=\"left\" fill=\"currentColor\" text-anchor=\"middle\">pobj</textPath>\n",
       "    </text>\n",
       "    <path class=\"displacy-arrowhead\" d=\"M6490.0,791.5 L6498.0,779.5 6482.0,779.5\" fill=\"currentColor\"/>\n",
       "</g>\n",
       "\n",
       "<g class=\"displacy-arrow\">\n",
       "    <path class=\"displacy-arc\" id=\"arrow-fb4e6abac95f47e0babc659621956c18-0-37\" stroke-width=\"2px\" d=\"M5845,789.5 C5845,352.0 6680.0,352.0 6680.0,789.5\" fill=\"none\" stroke=\"currentColor\"/>\n",
       "    <text dy=\"1.25em\" style=\"font-size: 0.8em; letter-spacing: 1px\">\n",
       "        <textPath xlink:href=\"#arrow-fb4e6abac95f47e0babc659621956c18-0-37\" class=\"displacy-label\" startOffset=\"50%\" side=\"left\" fill=\"currentColor\" text-anchor=\"middle\">prep</textPath>\n",
       "    </text>\n",
       "    <path class=\"displacy-arrowhead\" d=\"M6680.0,791.5 L6688.0,779.5 6672.0,779.5\" fill=\"currentColor\"/>\n",
       "</g>\n",
       "\n",
       "<g class=\"displacy-arrow\">\n",
       "    <path class=\"displacy-arc\" id=\"arrow-fb4e6abac95f47e0babc659621956c18-0-38\" stroke-width=\"2px\" d=\"M6720,789.5 C6720,702.0 6835.0,702.0 6835.0,789.5\" fill=\"none\" stroke=\"currentColor\"/>\n",
       "    <text dy=\"1.25em\" style=\"font-size: 0.8em; letter-spacing: 1px\">\n",
       "        <textPath xlink:href=\"#arrow-fb4e6abac95f47e0babc659621956c18-0-38\" class=\"displacy-label\" startOffset=\"50%\" side=\"left\" fill=\"currentColor\" text-anchor=\"middle\">pobj</textPath>\n",
       "    </text>\n",
       "    <path class=\"displacy-arrowhead\" d=\"M6835.0,791.5 L6843.0,779.5 6827.0,779.5\" fill=\"currentColor\"/>\n",
       "</g>\n",
       "\n",
       "<g class=\"displacy-arrow\">\n",
       "    <path class=\"displacy-arc\" id=\"arrow-fb4e6abac95f47e0babc659621956c18-0-39\" stroke-width=\"2px\" d=\"M6895,789.5 C6895,702.0 7010.0,702.0 7010.0,789.5\" fill=\"none\" stroke=\"currentColor\"/>\n",
       "    <text dy=\"1.25em\" style=\"font-size: 0.8em; letter-spacing: 1px\">\n",
       "        <textPath xlink:href=\"#arrow-fb4e6abac95f47e0babc659621956c18-0-39\" class=\"displacy-label\" startOffset=\"50%\" side=\"left\" fill=\"currentColor\" text-anchor=\"middle\">nummod</textPath>\n",
       "    </text>\n",
       "    <path class=\"displacy-arrowhead\" d=\"M7010.0,791.5 L7018.0,779.5 7002.0,779.5\" fill=\"currentColor\"/>\n",
       "</g>\n",
       "\n",
       "<g class=\"displacy-arrow\">\n",
       "    <path class=\"displacy-arc\" id=\"arrow-fb4e6abac95f47e0babc659621956c18-0-40\" stroke-width=\"2px\" d=\"M7245,789.5 C7245,702.0 7360.0,702.0 7360.0,789.5\" fill=\"none\" stroke=\"currentColor\"/>\n",
       "    <text dy=\"1.25em\" style=\"font-size: 0.8em; letter-spacing: 1px\">\n",
       "        <textPath xlink:href=\"#arrow-fb4e6abac95f47e0babc659621956c18-0-40\" class=\"displacy-label\" startOffset=\"50%\" side=\"left\" fill=\"currentColor\" text-anchor=\"middle\">nsubj</textPath>\n",
       "    </text>\n",
       "    <path class=\"displacy-arrowhead\" d=\"M7245,791.5 L7237,779.5 7253,779.5\" fill=\"currentColor\"/>\n",
       "</g>\n",
       "\n",
       "<g class=\"displacy-arrow\">\n",
       "    <path class=\"displacy-arc\" id=\"arrow-fb4e6abac95f47e0babc659621956c18-0-41\" stroke-width=\"2px\" d=\"M7595,789.5 C7595,702.0 7710.0,702.0 7710.0,789.5\" fill=\"none\" stroke=\"currentColor\"/>\n",
       "    <text dy=\"1.25em\" style=\"font-size: 0.8em; letter-spacing: 1px\">\n",
       "        <textPath xlink:href=\"#arrow-fb4e6abac95f47e0babc659621956c18-0-41\" class=\"displacy-label\" startOffset=\"50%\" side=\"left\" fill=\"currentColor\" text-anchor=\"middle\">det</textPath>\n",
       "    </text>\n",
       "    <path class=\"displacy-arrowhead\" d=\"M7595,791.5 L7587,779.5 7603,779.5\" fill=\"currentColor\"/>\n",
       "</g>\n",
       "\n",
       "<g class=\"displacy-arrow\">\n",
       "    <path class=\"displacy-arc\" id=\"arrow-fb4e6abac95f47e0babc659621956c18-0-42\" stroke-width=\"2px\" d=\"M7420,789.5 C7420,614.5 7715.0,614.5 7715.0,789.5\" fill=\"none\" stroke=\"currentColor\"/>\n",
       "    <text dy=\"1.25em\" style=\"font-size: 0.8em; letter-spacing: 1px\">\n",
       "        <textPath xlink:href=\"#arrow-fb4e6abac95f47e0babc659621956c18-0-42\" class=\"displacy-label\" startOffset=\"50%\" side=\"left\" fill=\"currentColor\" text-anchor=\"middle\">attr</textPath>\n",
       "    </text>\n",
       "    <path class=\"displacy-arrowhead\" d=\"M7715.0,791.5 L7723.0,779.5 7707.0,779.5\" fill=\"currentColor\"/>\n",
       "</g>\n",
       "\n",
       "<g class=\"displacy-arrow\">\n",
       "    <path class=\"displacy-arc\" id=\"arrow-fb4e6abac95f47e0babc659621956c18-0-43\" stroke-width=\"2px\" d=\"M7770,789.5 C7770,702.0 7885.0,702.0 7885.0,789.5\" fill=\"none\" stroke=\"currentColor\"/>\n",
       "    <text dy=\"1.25em\" style=\"font-size: 0.8em; letter-spacing: 1px\">\n",
       "        <textPath xlink:href=\"#arrow-fb4e6abac95f47e0babc659621956c18-0-43\" class=\"displacy-label\" startOffset=\"50%\" side=\"left\" fill=\"currentColor\" text-anchor=\"middle\">prep</textPath>\n",
       "    </text>\n",
       "    <path class=\"displacy-arrowhead\" d=\"M7885.0,791.5 L7893.0,779.5 7877.0,779.5\" fill=\"currentColor\"/>\n",
       "</g>\n",
       "\n",
       "<g class=\"displacy-arrow\">\n",
       "    <path class=\"displacy-arc\" id=\"arrow-fb4e6abac95f47e0babc659621956c18-0-44\" stroke-width=\"2px\" d=\"M8120,789.5 C8120,527.0 8595.0,527.0 8595.0,789.5\" fill=\"none\" stroke=\"currentColor\"/>\n",
       "    <text dy=\"1.25em\" style=\"font-size: 0.8em; letter-spacing: 1px\">\n",
       "        <textPath xlink:href=\"#arrow-fb4e6abac95f47e0babc659621956c18-0-44\" class=\"displacy-label\" startOffset=\"50%\" side=\"left\" fill=\"currentColor\" text-anchor=\"middle\">det</textPath>\n",
       "    </text>\n",
       "    <path class=\"displacy-arrowhead\" d=\"M8120,791.5 L8112,779.5 8128,779.5\" fill=\"currentColor\"/>\n",
       "</g>\n",
       "\n",
       "<g class=\"displacy-arrow\">\n",
       "    <path class=\"displacy-arc\" id=\"arrow-fb4e6abac95f47e0babc659621956c18-0-45\" stroke-width=\"2px\" d=\"M8295,789.5 C8295,614.5 8590.0,614.5 8590.0,789.5\" fill=\"none\" stroke=\"currentColor\"/>\n",
       "    <text dy=\"1.25em\" style=\"font-size: 0.8em; letter-spacing: 1px\">\n",
       "        <textPath xlink:href=\"#arrow-fb4e6abac95f47e0babc659621956c18-0-45\" class=\"displacy-label\" startOffset=\"50%\" side=\"left\" fill=\"currentColor\" text-anchor=\"middle\">compound</textPath>\n",
       "    </text>\n",
       "    <path class=\"displacy-arrowhead\" d=\"M8295,791.5 L8287,779.5 8303,779.5\" fill=\"currentColor\"/>\n",
       "</g>\n",
       "\n",
       "<g class=\"displacy-arrow\">\n",
       "    <path class=\"displacy-arc\" id=\"arrow-fb4e6abac95f47e0babc659621956c18-0-46\" stroke-width=\"2px\" d=\"M8470,789.5 C8470,702.0 8585.0,702.0 8585.0,789.5\" fill=\"none\" stroke=\"currentColor\"/>\n",
       "    <text dy=\"1.25em\" style=\"font-size: 0.8em; letter-spacing: 1px\">\n",
       "        <textPath xlink:href=\"#arrow-fb4e6abac95f47e0babc659621956c18-0-46\" class=\"displacy-label\" startOffset=\"50%\" side=\"left\" fill=\"currentColor\" text-anchor=\"middle\">compound</textPath>\n",
       "    </text>\n",
       "    <path class=\"displacy-arrowhead\" d=\"M8470,791.5 L8462,779.5 8478,779.5\" fill=\"currentColor\"/>\n",
       "</g>\n",
       "\n",
       "<g class=\"displacy-arrow\">\n",
       "    <path class=\"displacy-arc\" id=\"arrow-fb4e6abac95f47e0babc659621956c18-0-47\" stroke-width=\"2px\" d=\"M7945,789.5 C7945,439.5 8600.0,439.5 8600.0,789.5\" fill=\"none\" stroke=\"currentColor\"/>\n",
       "    <text dy=\"1.25em\" style=\"font-size: 0.8em; letter-spacing: 1px\">\n",
       "        <textPath xlink:href=\"#arrow-fb4e6abac95f47e0babc659621956c18-0-47\" class=\"displacy-label\" startOffset=\"50%\" side=\"left\" fill=\"currentColor\" text-anchor=\"middle\">pobj</textPath>\n",
       "    </text>\n",
       "    <path class=\"displacy-arrowhead\" d=\"M8600.0,791.5 L8608.0,779.5 8592.0,779.5\" fill=\"currentColor\"/>\n",
       "</g>\n",
       "\n",
       "<g class=\"displacy-arrow\">\n",
       "    <path class=\"displacy-arc\" id=\"arrow-fb4e6abac95f47e0babc659621956c18-0-48\" stroke-width=\"2px\" d=\"M7420,789.5 C7420,264.5 8785.0,264.5 8785.0,789.5\" fill=\"none\" stroke=\"currentColor\"/>\n",
       "    <text dy=\"1.25em\" style=\"font-size: 0.8em; letter-spacing: 1px\">\n",
       "        <textPath xlink:href=\"#arrow-fb4e6abac95f47e0babc659621956c18-0-48\" class=\"displacy-label\" startOffset=\"50%\" side=\"left\" fill=\"currentColor\" text-anchor=\"middle\">prep</textPath>\n",
       "    </text>\n",
       "    <path class=\"displacy-arrowhead\" d=\"M8785.0,791.5 L8793.0,779.5 8777.0,779.5\" fill=\"currentColor\"/>\n",
       "</g>\n",
       "\n",
       "<g class=\"displacy-arrow\">\n",
       "    <path class=\"displacy-arc\" id=\"arrow-fb4e6abac95f47e0babc659621956c18-0-49\" stroke-width=\"2px\" d=\"M8820,789.5 C8820,702.0 8935.0,702.0 8935.0,789.5\" fill=\"none\" stroke=\"currentColor\"/>\n",
       "    <text dy=\"1.25em\" style=\"font-size: 0.8em; letter-spacing: 1px\">\n",
       "        <textPath xlink:href=\"#arrow-fb4e6abac95f47e0babc659621956c18-0-49\" class=\"displacy-label\" startOffset=\"50%\" side=\"left\" fill=\"currentColor\" text-anchor=\"middle\">pobj</textPath>\n",
       "    </text>\n",
       "    <path class=\"displacy-arrowhead\" d=\"M8935.0,791.5 L8943.0,779.5 8927.0,779.5\" fill=\"currentColor\"/>\n",
       "</g>\n",
       "\n",
       "<g class=\"displacy-arrow\">\n",
       "    <path class=\"displacy-arc\" id=\"arrow-fb4e6abac95f47e0babc659621956c18-0-50\" stroke-width=\"2px\" d=\"M7420,789.5 C7420,89.5 9145.0,89.5 9145.0,789.5\" fill=\"none\" stroke=\"currentColor\"/>\n",
       "    <text dy=\"1.25em\" style=\"font-size: 0.8em; letter-spacing: 1px\">\n",
       "        <textPath xlink:href=\"#arrow-fb4e6abac95f47e0babc659621956c18-0-50\" class=\"displacy-label\" startOffset=\"50%\" side=\"left\" fill=\"currentColor\" text-anchor=\"middle\">cc</textPath>\n",
       "    </text>\n",
       "    <path class=\"displacy-arrowhead\" d=\"M9145.0,791.5 L9153.0,779.5 9137.0,779.5\" fill=\"currentColor\"/>\n",
       "</g>\n",
       "\n",
       "<g class=\"displacy-arrow\">\n",
       "    <path class=\"displacy-arc\" id=\"arrow-fb4e6abac95f47e0babc659621956c18-0-51\" stroke-width=\"2px\" d=\"M7420,789.5 C7420,2.0 9325.0,2.0 9325.0,789.5\" fill=\"none\" stroke=\"currentColor\"/>\n",
       "    <text dy=\"1.25em\" style=\"font-size: 0.8em; letter-spacing: 1px\">\n",
       "        <textPath xlink:href=\"#arrow-fb4e6abac95f47e0babc659621956c18-0-51\" class=\"displacy-label\" startOffset=\"50%\" side=\"left\" fill=\"currentColor\" text-anchor=\"middle\">conj</textPath>\n",
       "    </text>\n",
       "    <path class=\"displacy-arrowhead\" d=\"M9325.0,791.5 L9333.0,779.5 9317.0,779.5\" fill=\"currentColor\"/>\n",
       "</g>\n",
       "\n",
       "<g class=\"displacy-arrow\">\n",
       "    <path class=\"displacy-arc\" id=\"arrow-fb4e6abac95f47e0babc659621956c18-0-52\" stroke-width=\"2px\" d=\"M9345,789.5 C9345,702.0 9460.0,702.0 9460.0,789.5\" fill=\"none\" stroke=\"currentColor\"/>\n",
       "    <text dy=\"1.25em\" style=\"font-size: 0.8em; letter-spacing: 1px\">\n",
       "        <textPath xlink:href=\"#arrow-fb4e6abac95f47e0babc659621956c18-0-52\" class=\"displacy-label\" startOffset=\"50%\" side=\"left\" fill=\"currentColor\" text-anchor=\"middle\">prep</textPath>\n",
       "    </text>\n",
       "    <path class=\"displacy-arrowhead\" d=\"M9460.0,791.5 L9468.0,779.5 9452.0,779.5\" fill=\"currentColor\"/>\n",
       "</g>\n",
       "\n",
       "<g class=\"displacy-arrow\">\n",
       "    <path class=\"displacy-arc\" id=\"arrow-fb4e6abac95f47e0babc659621956c18-0-53\" stroke-width=\"2px\" d=\"M9520,789.5 C9520,702.0 9635.0,702.0 9635.0,789.5\" fill=\"none\" stroke=\"currentColor\"/>\n",
       "    <text dy=\"1.25em\" style=\"font-size: 0.8em; letter-spacing: 1px\">\n",
       "        <textPath xlink:href=\"#arrow-fb4e6abac95f47e0babc659621956c18-0-53\" class=\"displacy-label\" startOffset=\"50%\" side=\"left\" fill=\"currentColor\" text-anchor=\"middle\">pobj</textPath>\n",
       "    </text>\n",
       "    <path class=\"displacy-arrowhead\" d=\"M9635.0,791.5 L9643.0,779.5 9627.0,779.5\" fill=\"currentColor\"/>\n",
       "</g>\n",
       "\n",
       "<g class=\"displacy-arrow\">\n",
       "    <path class=\"displacy-arc\" id=\"arrow-fb4e6abac95f47e0babc659621956c18-0-54\" stroke-width=\"2px\" d=\"M9345,789.5 C9345,527.0 9820.0,527.0 9820.0,789.5\" fill=\"none\" stroke=\"currentColor\"/>\n",
       "    <text dy=\"1.25em\" style=\"font-size: 0.8em; letter-spacing: 1px\">\n",
       "        <textPath xlink:href=\"#arrow-fb4e6abac95f47e0babc659621956c18-0-54\" class=\"displacy-label\" startOffset=\"50%\" side=\"left\" fill=\"currentColor\" text-anchor=\"middle\">prep</textPath>\n",
       "    </text>\n",
       "    <path class=\"displacy-arrowhead\" d=\"M9820.0,791.5 L9828.0,779.5 9812.0,779.5\" fill=\"currentColor\"/>\n",
       "</g>\n",
       "\n",
       "<g class=\"displacy-arrow\">\n",
       "    <path class=\"displacy-arc\" id=\"arrow-fb4e6abac95f47e0babc659621956c18-0-55\" stroke-width=\"2px\" d=\"M10045,789.5 C10045,614.5 10340.0,614.5 10340.0,789.5\" fill=\"none\" stroke=\"currentColor\"/>\n",
       "    <text dy=\"1.25em\" style=\"font-size: 0.8em; letter-spacing: 1px\">\n",
       "        <textPath xlink:href=\"#arrow-fb4e6abac95f47e0babc659621956c18-0-55\" class=\"displacy-label\" startOffset=\"50%\" side=\"left\" fill=\"currentColor\" text-anchor=\"middle\">det</textPath>\n",
       "    </text>\n",
       "    <path class=\"displacy-arrowhead\" d=\"M10045,791.5 L10037,779.5 10053,779.5\" fill=\"currentColor\"/>\n",
       "</g>\n",
       "\n",
       "<g class=\"displacy-arrow\">\n",
       "    <path class=\"displacy-arc\" id=\"arrow-fb4e6abac95f47e0babc659621956c18-0-56\" stroke-width=\"2px\" d=\"M10220,789.5 C10220,702.0 10335.0,702.0 10335.0,789.5\" fill=\"none\" stroke=\"currentColor\"/>\n",
       "    <text dy=\"1.25em\" style=\"font-size: 0.8em; letter-spacing: 1px\">\n",
       "        <textPath xlink:href=\"#arrow-fb4e6abac95f47e0babc659621956c18-0-56\" class=\"displacy-label\" startOffset=\"50%\" side=\"left\" fill=\"currentColor\" text-anchor=\"middle\">nummod</textPath>\n",
       "    </text>\n",
       "    <path class=\"displacy-arrowhead\" d=\"M10220,791.5 L10212,779.5 10228,779.5\" fill=\"currentColor\"/>\n",
       "</g>\n",
       "\n",
       "<g class=\"displacy-arrow\">\n",
       "    <path class=\"displacy-arc\" id=\"arrow-fb4e6abac95f47e0babc659621956c18-0-57\" stroke-width=\"2px\" d=\"M9870,789.5 C9870,527.0 10345.0,527.0 10345.0,789.5\" fill=\"none\" stroke=\"currentColor\"/>\n",
       "    <text dy=\"1.25em\" style=\"font-size: 0.8em; letter-spacing: 1px\">\n",
       "        <textPath xlink:href=\"#arrow-fb4e6abac95f47e0babc659621956c18-0-57\" class=\"displacy-label\" startOffset=\"50%\" side=\"left\" fill=\"currentColor\" text-anchor=\"middle\">pobj</textPath>\n",
       "    </text>\n",
       "    <path class=\"displacy-arrowhead\" d=\"M10345.0,791.5 L10353.0,779.5 10337.0,779.5\" fill=\"currentColor\"/>\n",
       "</g>\n",
       "</svg></span>"
      ],
      "text/plain": [
       "<IPython.core.display.HTML object>"
      ]
     },
     "metadata": {},
     "output_type": "display_data"
    }
   ],
   "source": [
    "displacy.render(doc, style = \"dep\")"
   ]
  },
  {
   "cell_type": "code",
   "execution_count": 60,
   "id": "41f261b2",
   "metadata": {},
   "outputs": [],
   "source": [
    "## Named Entity Recognition (NER)"
   ]
  },
  {
   "cell_type": "code",
   "execution_count": 27,
   "id": "74dc79fe",
   "metadata": {},
   "outputs": [
    {
     "name": "stdout",
     "output_type": "stream",
     "text": [
      "Guido van Rossum PERSON\n",
      "31 January 1956 DATE\n",
      "Dutch NORP\n",
      "July 2018 DATE\n",
      "the Python Steering Council ORG\n",
      "2019 DATE\n",
      "2020 DATE\n"
     ]
    }
   ],
   "source": [
    "for ent in doc.ents:\n",
    "    print(ent.text, ent.label_)"
   ]
  },
  {
   "cell_type": "code",
   "execution_count": 28,
   "id": "38f826dd",
   "metadata": {},
   "outputs": [
    {
     "data": {
      "text/html": [
       "<span class=\"tex2jax_ignore\"><div class=\"entities\" style=\"line-height: 2.5; direction: ltr\">\n",
       "<mark class=\"entity\" style=\"background: #aa9cfc; padding: 0.45em 0.6em; margin: 0 0.25em; line-height: 1; border-radius: 0.35em;\">\n",
       "    Guido van Rossum\n",
       "    <span style=\"font-size: 0.8em; font-weight: bold; line-height: 1; border-radius: 0.35em; vertical-align: middle; margin-left: 0.5rem\">PERSON</span>\n",
       "</mark>\n",
       " (born \n",
       "<mark class=\"entity\" style=\"background: #bfe1d9; padding: 0.45em 0.6em; margin: 0 0.25em; line-height: 1; border-radius: 0.35em;\">\n",
       "    31 January 1956\n",
       "    <span style=\"font-size: 0.8em; font-weight: bold; line-height: 1; border-radius: 0.35em; vertical-align: middle; margin-left: 0.5rem\">DATE</span>\n",
       "</mark>\n",
       ") is a \n",
       "<mark class=\"entity\" style=\"background: #c887fb; padding: 0.45em 0.6em; margin: 0 0.25em; line-height: 1; border-radius: 0.35em;\">\n",
       "    Dutch\n",
       "    <span style=\"font-size: 0.8em; font-weight: bold; line-height: 1; border-radius: 0.35em; vertical-align: middle; margin-left: 0.5rem\">NORP</span>\n",
       "</mark>\n",
       " programmer best known as the creator of the Python programming language, for which he was the &quot;benevolent dictator for life&quot; (BDFL) until he stepped down from the position in \n",
       "<mark class=\"entity\" style=\"background: #bfe1d9; padding: 0.45em 0.6em; margin: 0 0.25em; line-height: 1; border-radius: 0.35em;\">\n",
       "    July 2018\n",
       "    <span style=\"font-size: 0.8em; font-weight: bold; line-height: 1; border-radius: 0.35em; vertical-align: middle; margin-left: 0.5rem\">DATE</span>\n",
       "</mark>\n",
       ". He remained a member of \n",
       "<mark class=\"entity\" style=\"background: #7aecec; padding: 0.45em 0.6em; margin: 0 0.25em; line-height: 1; border-radius: 0.35em;\">\n",
       "    the Python Steering Council\n",
       "    <span style=\"font-size: 0.8em; font-weight: bold; line-height: 1; border-radius: 0.35em; vertical-align: middle; margin-left: 0.5rem\">ORG</span>\n",
       "</mark>\n",
       " through \n",
       "<mark class=\"entity\" style=\"background: #bfe1d9; padding: 0.45em 0.6em; margin: 0 0.25em; line-height: 1; border-radius: 0.35em;\">\n",
       "    2019\n",
       "    <span style=\"font-size: 0.8em; font-weight: bold; line-height: 1; border-radius: 0.35em; vertical-align: middle; margin-left: 0.5rem\">DATE</span>\n",
       "</mark>\n",
       ", and withdrew from nominations for the \n",
       "<mark class=\"entity\" style=\"background: #bfe1d9; padding: 0.45em 0.6em; margin: 0 0.25em; line-height: 1; border-radius: 0.35em;\">\n",
       "    2020\n",
       "    <span style=\"font-size: 0.8em; font-weight: bold; line-height: 1; border-radius: 0.35em; vertical-align: middle; margin-left: 0.5rem\">DATE</span>\n",
       "</mark>\n",
       " election.</div></span>"
      ],
      "text/plain": [
       "<IPython.core.display.HTML object>"
      ]
     },
     "metadata": {},
     "output_type": "display_data"
    }
   ],
   "source": [
    "displacy.render(doc, style = \"ent\")"
   ]
  },
  {
   "cell_type": "markdown",
   "id": "bdbed0e4",
   "metadata": {},
   "source": [
    "## Word vectors"
   ]
  },
  {
   "cell_type": "code",
   "execution_count": 29,
   "id": "0632cb61",
   "metadata": {},
   "outputs": [
    {
     "name": "stdout",
     "output_type": "stream",
     "text": [
      "[-0.58313864  1.0630852   0.38540393  0.44942492 -0.11450165  0.44385102\n",
      " -0.55115414  0.11430165 -0.8289989   0.3883373  -0.1464433  -0.1114676\n",
      "  0.96859455  0.8757668   0.43654776 -0.31346455 -0.61303586  2.1882706\n",
      "  0.02898124 -0.0783288   1.592581   -0.5172376   0.98317546  0.29783285\n",
      "  0.28142393 -0.30727428 -0.8090403  -0.45026407  0.08394663 -0.48521546\n",
      "  2.0606382  -2.185183    0.4335337   0.01390551 -0.97075903  0.01180416\n",
      " -0.4132477  -0.56985474 -0.58562505  0.8963891  -1.223198   -1.455324\n",
      "  0.11601293  0.47334346 -0.8372756  -0.51900864  0.2746813  -0.20313692\n",
      "  1.0556079   0.4269778  -0.9994365  -0.09648305 -1.1062945  -0.02543956\n",
      " -0.25719407  0.8337139  -0.4959442   0.54176724 -0.18229069  0.25719252\n",
      " -0.66506255 -0.02189845  0.6129887  -0.6857461  -0.36937773 -0.3326221\n",
      " -0.20762897 -0.58286655  0.4092842  -0.80683696  0.29174507  0.48075396\n",
      " -0.28493685 -0.23907119  0.48551935  0.11707528  0.53606135  2.224441\n",
      " -0.8839178  -1.2027037   2.2877827   0.6073051  -0.04798681  0.90267396\n",
      "  0.5238602  -0.72829247  0.0841426  -0.36940765 -1.13259    -0.15872097\n",
      " -2.3310528  -0.06469847 -0.1798664   0.13263208  2.1900997  -0.61879086]\n"
     ]
    }
   ],
   "source": [
    "word = nlp(u'table')\n",
    "#print(word.vector.shape)\n",
    "print(word.vector)"
   ]
  },
  {
   "cell_type": "code",
   "execution_count": 30,
   "id": "140dbd6f",
   "metadata": {},
   "outputs": [],
   "source": [
    "doc1 = nlp(\"I like apples and oranges.\")\n",
    "doc2 = nlp(\"Fruit tastes very good.\")"
   ]
  },
  {
   "cell_type": "code",
   "execution_count": 31,
   "id": "e09a4c35",
   "metadata": {},
   "outputs": [
    {
     "name": "stdout",
     "output_type": "stream",
     "text": [
      "I like apples and oranges. <-> Fruit tastes very good. 0.2295838973287422\n"
     ]
    },
    {
     "name": "stderr",
     "output_type": "stream",
     "text": [
      "C:\\Users\\kasia\\AppData\\Local\\Temp/ipykernel_31684/127524577.py:1: UserWarning: [W007] The model you're using has no word vectors loaded, so the result of the Doc.similarity method will be based on the tagger, parser and NER, which may not give useful similarity judgements. This may happen if you're using one of the small models, e.g. `en_core_web_sm`, which don't ship with word vectors and only use context-sensitive tensors. You can always add your own word vectors, or use one of the larger models instead if available.\n",
      "  print(doc1, \"<->\", doc2, doc1.similarity(doc2))\n"
     ]
    }
   ],
   "source": [
    "print(doc1, \"<->\", doc2, doc1.similarity(doc2))"
   ]
  },
  {
   "cell_type": "code",
   "execution_count": 32,
   "id": "0f28e216",
   "metadata": {},
   "outputs": [],
   "source": [
    "nlp2 = spacy.load(\"en_core_web_lg\")"
   ]
  },
  {
   "cell_type": "code",
   "execution_count": 33,
   "id": "716d00e4",
   "metadata": {},
   "outputs": [],
   "source": [
    "doc1 = nlp2(\"I like apples and oranges.\")\n",
    "doc2 = nlp2(\"Fruit tastes very good.\")"
   ]
  },
  {
   "cell_type": "code",
   "execution_count": 34,
   "id": "1bce3cdd",
   "metadata": {},
   "outputs": [
    {
     "name": "stdout",
     "output_type": "stream",
     "text": [
      "I like apples and oranges. <-> Fruit tastes very good. 0.8026200751227274\n"
     ]
    }
   ],
   "source": [
    "print(doc1, \"<->\", doc2, doc1.similarity(doc2))"
   ]
  },
  {
   "cell_type": "code",
   "execution_count": null,
   "id": "318c1eb2",
   "metadata": {},
   "outputs": [],
   "source": []
  },
  {
   "cell_type": "code",
   "execution_count": null,
   "id": "4174235b",
   "metadata": {},
   "outputs": [],
   "source": []
  }
 ],
 "metadata": {
  "kernelspec": {
   "display_name": "Python 3 (ipykernel)",
   "language": "python",
   "name": "python3"
  },
  "language_info": {
   "codemirror_mode": {
    "name": "ipython",
    "version": 3
   },
   "file_extension": ".py",
   "mimetype": "text/x-python",
   "name": "python",
   "nbconvert_exporter": "python",
   "pygments_lexer": "ipython3",
   "version": "3.9.4"
  }
 },
 "nbformat": 4,
 "nbformat_minor": 5
}
